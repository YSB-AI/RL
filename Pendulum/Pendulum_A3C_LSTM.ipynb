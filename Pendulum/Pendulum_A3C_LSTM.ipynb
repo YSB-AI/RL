{
 "cells": [
  {
   "attachments": {},
   "cell_type": "markdown",
   "metadata": {},
   "source": [
    "# Checking enviroment states and action sets"
   ]
  },
  {
   "cell_type": "code",
   "execution_count": 1,
   "metadata": {},
   "outputs": [
    {
     "name": "stderr",
     "output_type": "stream",
     "text": [
      "2023-05-08 17:43:13.285717: E tensorflow/stream_executor/cuda/cuda_blas.cc:2981] Unable to register cuBLAS factory: Attempting to register factory for plugin cuBLAS when one has already been registered\n"
     ]
    },
    {
     "name": "stdout",
     "output_type": "stream",
     "text": [
      "Num devices available:  [PhysicalDevice(name='/physical_device:CPU:0', device_type='CPU'), PhysicalDevice(name='/physical_device:GPU:0', device_type='GPU')]\n"
     ]
    }
   ],
   "source": [
    "import sys\n",
    "import os.path\n",
    "sys.path.append(\"..\")\n",
    "from A3C_Agent import *\n",
    "from ENV_DETAILS import *"
   ]
  },
  {
   "cell_type": "code",
   "execution_count": 2,
   "metadata": {},
   "outputs": [],
   "source": [
    "ENV = \"Pendulum-v1\"\n",
    "SUCESS_CRITERIA_VALUE = ENV_DETAILS[ENV][\"SUCESS_CRITERIA_VALUE\"]\n",
    "SUCESS_CRITERIA_EPOCH = ENV_DETAILS[ENV][\"SUCESS_CRITERIA_EPOCH\"]\n",
    "EPISODES = ENV_DETAILS[ENV][\"EPISODES\"]"
   ]
  },
  {
   "cell_type": "code",
   "execution_count": 3,
   "metadata": {},
   "outputs": [
    {
     "data": {
      "text/plain": [
       "<TimeLimit<OrderEnforcing<PassiveEnvChecker<PendulumEnv<Pendulum-v1>>>>>"
      ]
     },
     "execution_count": 3,
     "metadata": {},
     "output_type": "execute_result"
    }
   ],
   "source": [
    "\n",
    "env = gym.make(ENV)\n",
    "env\n"
   ]
  },
  {
   "cell_type": "code",
   "execution_count": 4,
   "metadata": {},
   "outputs": [
    {
     "data": {
      "text/plain": [
       "array([0.35020584, 0.7352756 , 1.348247  ], dtype=float32)"
      ]
     },
     "execution_count": 4,
     "metadata": {},
     "output_type": "execute_result"
    }
   ],
   "source": [
    "s = env.observation_space.sample()\n",
    "s"
   ]
  },
  {
   "cell_type": "code",
   "execution_count": 5,
   "metadata": {},
   "outputs": [
    {
     "data": {
      "text/plain": [
       "(Box([-1. -1. -8.], [1. 1. 8.], (3,), float32), (3,))"
      ]
     },
     "execution_count": 5,
     "metadata": {},
     "output_type": "execute_result"
    }
   ],
   "source": [
    "env.observation_space, env.observation_space.shape"
   ]
  },
  {
   "cell_type": "code",
   "execution_count": 6,
   "metadata": {},
   "outputs": [
    {
     "data": {
      "text/plain": [
       "array([-0.46579143,  0.88489455, -0.07433654], dtype=float32)"
      ]
     },
     "execution_count": 6,
     "metadata": {},
     "output_type": "execute_result"
    }
   ],
   "source": [
    "s = env.reset()\n",
    "s[0]"
   ]
  },
  {
   "cell_type": "code",
   "execution_count": 7,
   "metadata": {},
   "outputs": [
    {
     "data": {
      "text/plain": [
       "(Box(-2.0, 2.0, (1,), float32),\n",
       " Box(-2.0, 2.0, (1,), float32),\n",
       " (array([ 0.9247133 , -0.38066423, -0.41281843], dtype=float32),\n",
       "  -0.1456028872312805,\n",
       "  False,\n",
       "  False,\n",
       "  {}))"
      ]
     },
     "execution_count": 7,
     "metadata": {},
     "output_type": "execute_result"
    }
   ],
   "source": [
    "s = env.reset()[0]\n",
    "env.action_space, env.action_space, env.step(s)"
   ]
  },
  {
   "attachments": {},
   "cell_type": "markdown",
   "metadata": {},
   "source": [
    "# Advantage Asynch Actor-Critic \n",
    "\n",
    "This time we will implement the A3C not considering Actor and Critic as part of the same network"
   ]
  },
  {
   "attachments": {},
   "cell_type": "markdown",
   "metadata": {},
   "source": [
    "### Training/Hyperparam run"
   ]
  },
  {
   "cell_type": "code",
   "execution_count": 8,
   "metadata": {},
   "outputs": [
    {
     "name": "stderr",
     "output_type": "stream",
     "text": [
      "UsageError: Line magic function `%tensorboard` not found.\n"
     ]
    }
   ],
   "source": [
    "%tensorboard --logdir logs_general/hyper"
   ]
  },
  {
   "cell_type": "code",
   "execution_count": 9,
   "metadata": {},
   "outputs": [],
   "source": [
    "TUNING_TYPE = \"BAYES\"\n",
    "HYPERPARAM_TUNING = True\n",
    "writer= \"Training/fit_A3C/\"\n",
    "\n",
    "if TUNING_TYPE == \"MANUAL\":\n",
    "    params = {}\n",
    "    params[\"n_enviroment\"] =[20]\n",
    "    params[\"discount\"] =[0.96, 0.97]\n",
    "    params[\"end_of_episode\"] = [400]\n",
    "    params[\"learning_rate\"] = [0.001]\n",
    "    params[\"entropy_factor\"] = [ 0.01, 0.05]\n",
    "    params[\"epsilon\"] = [1]\n",
    "    params[\"boltzman_factor\"] = [1]\n",
    "    params[\"exploration_technique\"] = ['soft', 'epsilon']\n",
    "    params[\"training_steps\"] = [3000000]\n",
    "    params[\"dense_units\"] = [32, 128]\n",
    "    params[\"time_to_update\"] = [400]\n",
    "    params[\"use_LSTM\"] =[False]\n",
    "\n",
    "\n",
    "    hyperparam_combination = list(itertools.product(*list(params.values())))\n",
    "    \n",
    "\n",
    "    try:\n",
    "\n",
    "        files = [name for name in os.listdir(logs_dir) if os.path.isfile(os.path.join(logs_dir, name)) and name != \"logfile.txt\" and name != \"merged_results.json\"]\n",
    "        if len(files) >= 1: merge_JsonFiles(main_hyper_dir, logs_dir, files)\n",
    "\n",
    "        res_file = logs_dir+\"merged_results.json\"\n",
    "        def without_keys(d, keys):\n",
    "            return {x: d[x] for x in d if x not in keys}\n",
    "\n",
    "\n",
    "        if os.path.isfile(res_file):\n",
    "            with open(res_file, 'r') as f:\n",
    "                complete_file = json.load(f)\n",
    "\n",
    "            newlist = sorted(complete_file, key=lambda d: d['mean_rewards'], reverse=True) \n",
    "            params = []\n",
    "            for i, f in enumerate(newlist):\n",
    "                label = \"disc : \"+str(f['discount'])+\" | \"+\"lr : \"+str(f['learning_rate'])+\" | \"+\"entropy : \"+str(f['entropy_factor'])+\" | \"+\"update : \"+str(f['time_to_update'])\n",
    "                plt.figure(figsize=[35,4])\n",
    "                plt.plot(f['rewards'], label = label)\n",
    "                plt.legend()\n",
    "                max_mean_reward = f['mean_rewards']\n",
    "                params.append(f)\n",
    "                print(without_keys(f,\"rewards\"))\n",
    "                if i == 10:\n",
    "                    break\n",
    "            plt.title(\"Evaluation rewards\"); plt.grid()\n",
    "            plt.show()\n",
    "\n",
    "    except:\n",
    "        pass\n",
    "\n"
   ]
  },
  {
   "cell_type": "code",
   "execution_count": 10,
   "metadata": {},
   "outputs": [
    {
     "name": "stdout",
     "output_type": "stream",
     "text": [
      "Model: \"continuous_actor_critic_agent\"\n",
      "_________________________________________________________________\n",
      " Layer (type)                Output Shape              Param #   \n",
      "=================================================================\n",
      " v (Dense)                   multiple                  33        \n",
      "                                                                 \n",
      " lstm (LSTM)                 multiple                  0 (unused)\n",
      "                                                                 \n",
      " actor_mu (Dense)            multiple                  33        \n",
      "                                                                 \n",
      " actor_sigma (Dense)         multiple                  33        \n",
      "                                                                 \n",
      " inp_0 (Dense)               multiple                  128       \n",
      "                                                                 \n",
      " inp_1 (Dense)               multiple                  1056      \n",
      "                                                                 \n",
      " inp_2 (Dense)               multiple                  1056      \n",
      "                                                                 \n",
      "=================================================================\n",
      "Total params: 2,339\n",
      "Trainable params: 2,339\n",
      "Non-trainable params: 0\n",
      "_________________________________________________________________\n"
     ]
    }
   ],
   "source": [
    "num_layers = 3\n",
    "dense = [32 for _ in range(num_layers)]\n",
    "actorcritic_agent = ContinuousActorCriticAgent(\n",
    "                    env = env, \n",
    "                    d = dense,\n",
    "                    lstm_unit = 32,\n",
    "                    use_LSTM = False,\n",
    "                    sigma_noise = 0.0001,\n",
    "                    num_layers = num_layers\n",
    "                    )\n",
    "obs = env.reset()[0]\n",
    "obs = obs.reshape((1,env.observation_space.shape[0]))\n",
    "actorcritic_agent(obs, inference = True)\n",
    "actorcritic_agent.summary()"
   ]
  },
  {
   "cell_type": "code",
   "execution_count": 11,
   "metadata": {},
   "outputs": [
    {
     "name": "stdout",
     "output_type": "stream",
     "text": [
      "Trial 35 Complete [02h 21m 50s]\n",
      "total_train_reward: -539.6058132802034\n",
      "\n",
      "Best total_train_reward So Far: -13.445653255719565\n",
      "Total elapsed time: 11h 59m 06s\n",
      "INFO:tensorflow:Oracle triggered exit\n"
     ]
    }
   ],
   "source": [
    "if HYPERPARAM_TUNING:\n",
    "\n",
    "    dir = r\"Hyperparam_kt_A3C_LSTM\"\n",
    "    project_name = \"keras_tunning_soft\"\n",
    "\n",
    "    tuner = kt.BayesianOptimization(\n",
    "            MyHyperModel(hyper_dir = dir+\"/\"+project_name,  writer = \"logs_hyper/A3C_LSTM_soft/\", \n",
    "                          end_of_episode = EPISODES, n_enviroment = 10, \n",
    "                  evaluation_epoch = 2000, training_steps = 500000,\n",
    "                  sucess_criteria_epochs = SUCESS_CRITERIA_EPOCH, sucess_criteria_value= SUCESS_CRITERIA_VALUE,\n",
    "                  discount_min = 0.90, discount_max = 0.99,\n",
    "                  entropy_min = 0.00001, entropy_max = 0.01,\n",
    "                  lr_min = 0.000001, lr_max = 0.005,\n",
    "                  dense_min = 32, dense_max = 300,\n",
    "                  lstm_min = 32, lstm_max = 128,\n",
    "                  time_to_update_min = 100, time_to_update_max=600,\n",
    "                  environment_name=ENV,\n",
    "                  continuous_actions_space= True,\n",
    "                  reward_scaler = 16.2736044,\n",
    "                  n_dense_layers = 4,\n",
    "                  use_LSTM=True\n",
    "                  ),\n",
    "            objective= kt.Objective('total_train_reward', direction=\"max\"), \n",
    "            max_trials = 35,\n",
    "            # distribution_strategy= strategy,\n",
    "            directory=dir,\n",
    "            project_name=project_name\n",
    "        )\n",
    "    tuner.search(x=[0], y=[1])\n",
    "   \n",
    "else : \n",
    "    \n",
    "        print(\"Acquiring parameters ....\")\n",
    "        writer= \"Training/fit_A3C/\"\n",
    "\n",
    "\n",
    "        exploration_tech = \"soft\"\n",
    "        discount = 0.99\n",
    "        learning_rate = 0.00001\n",
    "        entropy_factor = 0.001\n",
    "        dense_units = 256\n",
    "        sigma_noise =  1e-5\n",
    "\n",
    "        n_enviroment = 30\n",
    "        end_ep = 1000\n",
    "        ep = 1\n",
    "        bolt_fact = 1\n",
    "        training_steps = 4000000\n",
    "\n",
    "        time_to_update= 100\n",
    "        lstm_units= 32\n",
    "        end_of_episode = EPISODES\n",
    "        save_factor=50000\n",
    "        sucess_criteria_epochs = SUCESS_CRITERIA_EPOCH\n",
    "        sucess_criteria_value = SUCESS_CRITERIA_VALUE\n",
    "        environment_name = ENV\n",
    "        reward_scaler = 16.2736044\n",
    "        continuous_space_actions = True\n",
    "        return_agent = True\n",
    "        use_LSTM = False\n",
    "\n",
    "        env_model = run_training(training_steps, learning_rate, entropy_factor, exploration_tech, discount, time_to_update, dense_units, lstm_units, \n",
    "                        n_enviroment, writer, use_LSTM, end_of_episode, save_factor, sucess_criteria_epochs , sucess_criteria_value , \n",
    "                        environment_name, reward_scaler, continuous_space_actions, sigma_noise, return_agent)\n",
    "            "
   ]
  },
  {
   "cell_type": "code",
   "execution_count": 12,
   "metadata": {},
   "outputs": [
    {
     "name": "stdout",
     "output_type": "stream",
     "text": [
      "Trial id :18 | Score :-13.445653255719565 --> {'discount': 0.93, 'entropy_factor': 0.006482864720102065, 'learning_rate': 0.0009946444434546801, 'n_dense_layers': 1, 'dense_units_0': 144, 'lstm_units': 110, 'dense_units_1': 283, 'dense_units_2': 147, 'dense_units_3': 297}\n",
      "Trial id :28 | Score :-15.18817639483912 --> {'discount': 0.93, 'entropy_factor': 0.0071825978694448405, 'learning_rate': 0.0009434712108212545, 'n_dense_layers': 3, 'dense_units_0': 180, 'lstm_units': 57, 'dense_units_1': 106, 'dense_units_2': 32, 'dense_units_3': 32}\n",
      "Trial id :03 | Score :-16.315443526397626 --> {'discount': 0.9, 'entropy_factor': 0.0013503839444576747, 'learning_rate': 0.00112596468419057, 'n_dense_layers': 4, 'dense_units_0': 198, 'lstm_units': 128, 'dense_units_1': 41, 'dense_units_2': 106, 'dense_units_3': 258}\n"
     ]
    }
   ],
   "source": [
    "\n",
    "exploration_tech = \"soft\"\n",
    "hyperparam_combination=[]\n",
    "for trials in tuner.oracle.get_best_trials(num_trials=3):\n",
    "    print(f\"Trial id :{trials.trial_id} | Score :{trials.score} -->\",trials.hyperparameters.values)\n",
    "\n",
    "    n_env = 30\n",
    "    end_ep = 1000\n",
    "    ep = 1\n",
    "    bolt_fact = 1\n",
    "    train_steps = 5000000\n",
    "    disc = trials.hyperparameters.values[\"discount\"]\n",
    "    lr = trials.hyperparameters.values[\"learning_rate\"]\n",
    "    entropy_fact = trials.hyperparameters.values[\"entropy_factor\"]\n",
    "    n_hidden_layer_hp = trials.hyperparameters.values[\"n_dense_layers\"]\n",
    "\n",
    "    d = []\n",
    "    for i in range(n_hidden_layer_hp):\n",
    "        d.append(trials.hyperparameters.values['dense_units_'+str(i)])\n",
    "    sigma_noise = 1e-5\n",
    "    ulstm = False\n",
    "    # hyperparam_combination.append((n_env, disc, end_ep, lr, entropy_fact, ep, bolt_fact, exploration_tech, train_steps, d, time_to_update, ulstm))"
   ]
  },
  {
   "cell_type": "code",
   "execution_count": 13,
   "metadata": {},
   "outputs": [
    {
     "name": "stdout",
     "output_type": "stream",
     "text": [
      "Trial id :18 | Score :-13.445653255719565 --> {'discount': 0.93, 'entropy_factor': 0.006482864720102065, 'learning_rate': 0.0009946444434546801, 'n_dense_layers': 1, 'dense_units_0': 144, 'lstm_units': 110, 'dense_units_1': 283, 'dense_units_2': 147, 'dense_units_3': 297}\n",
      "reading...\n",
      "Trial number :  35\n",
      "Trial id :28 | Score :-15.18817639483912 --> {'discount': 0.93, 'entropy_factor': 0.0071825978694448405, 'learning_rate': 0.0009434712108212545, 'n_dense_layers': 3, 'dense_units_0': 180, 'lstm_units': 57, 'dense_units_1': 106, 'dense_units_2': 32, 'dense_units_3': 32}\n",
      "Trial id :03 | Score :-16.315443526397626 --> {'discount': 0.9, 'entropy_factor': 0.0013503839444576747, 'learning_rate': 0.00112596468419057, 'n_dense_layers': 4, 'dense_units_0': 198, 'lstm_units': 128, 'dense_units_1': 41, 'dense_units_2': 106, 'dense_units_3': 258}\n",
      "Moviepy - Building video ./A3C_soft_video.mp4.\n",
      "Moviepy - Writing video ./A3C_soft_video.mp4\n",
      "\n"
     ]
    },
    {
     "name": "stderr",
     "output_type": "stream",
     "text": [
      "                                                              \r"
     ]
    },
    {
     "name": "stdout",
     "output_type": "stream",
     "text": [
      "Moviepy - Done !\n",
      "Moviepy - video ready ./A3C_soft_video.mp4\n",
      "Final mean reward ' soft ': -13.386485388833325\n"
     ]
    }
   ],
   "source": [
    "val_env = gym.make(ENV, render_mode = \"rgb_array\")\n",
    "dir = r\"Hyperparam_kt_A3C_LSTM\"\n",
    "\n",
    "exploration_tech =\"soft\"\n",
    "\n",
    "for i, trials in enumerate(tuner.oracle.get_best_trials(num_trials=3)):\n",
    "    print(f\"Trial id :{trials.trial_id} | Score :{trials.score} -->\",trials.hyperparameters.values)\n",
    "    \n",
    "    if i ==0:\n",
    "        print(\"reading...\")\n",
    "        env_model = tuner.get_best_models()[0]\n",
    "    \n",
    "final_rewards = final_evaluation(env_model,val_env,n_tries=200, exploration=exploration_tech, sucess_criteria_epochs =SUCESS_CRITERIA_EPOCH, reward_scaler = 16.2736044 ,   video_name = \"./A3C_\"+exploration_tech+\"_video.mp4\", continuous_action_space= True)\n",
    "print(\"Final mean reward '\",exploration_tech,\"':\", np.mean(final_rewards))"
   ]
  },
  {
   "cell_type": "code",
   "execution_count": null,
   "metadata": {},
   "outputs": [],
   "source": []
  },
  {
   "cell_type": "code",
   "execution_count": null,
   "metadata": {},
   "outputs": [],
   "source": []
  },
  {
   "cell_type": "code",
   "execution_count": null,
   "metadata": {},
   "outputs": [],
   "source": []
  }
 ],
 "metadata": {
  "accelerator": "GPU",
  "colab": {
   "collapsed_sections": [],
   "machine_shape": "hm",
   "name": "MountainCar_A3C_TF1.ipynb",
   "provenance": [
    {
     "file_id": "13V9JMDwUOkrM9DucPAwwgBQfllmy9kjl",
     "timestamp": 1578567519575
    },
    {
     "file_id": "1rnkjQiF2XrsLm9SMvOuTxe8vX_7hZozI",
     "timestamp": 1578558966437
    }
   ]
  },
  "kernelspec": {
   "display_name": "rl_dev",
   "language": "python",
   "name": "python3"
  },
  "language_info": {
   "codemirror_mode": {
    "name": "ipython",
    "version": 3
   },
   "file_extension": ".py",
   "mimetype": "text/x-python",
   "name": "python",
   "nbconvert_exporter": "python",
   "pygments_lexer": "ipython3",
   "version": "3.8.0"
  },
  "vscode": {
   "interpreter": {
    "hash": "7879325296583a7806f15309d0945146a04fe73b0286fa5dbd4cdc57d601416b"
   }
  }
 },
 "nbformat": 4,
 "nbformat_minor": 4
}
