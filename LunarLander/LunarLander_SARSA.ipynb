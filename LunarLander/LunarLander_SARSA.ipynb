{
 "cells": [
  {
   "attachments": {},
   "cell_type": "markdown",
   "metadata": {},
   "source": [
    "# Checking enviroment states and action sets"
   ]
  },
  {
   "cell_type": "code",
   "execution_count": 1,
   "metadata": {},
   "outputs": [
    {
     "name": "stderr",
     "output_type": "stream",
     "text": [
      "2024-03-03 07:51:05.529929: E tensorflow/stream_executor/cuda/cuda_blas.cc:2981] Unable to register cuBLAS factory: Attempting to register factory for plugin cuBLAS when one has already been registered\n"
     ]
    },
    {
     "name": "stdout",
     "output_type": "stream",
     "text": [
      "Num devices available:  [PhysicalDevice(name='/physical_device:CPU:0', device_type='CPU'), PhysicalDevice(name='/physical_device:GPU:0', device_type='GPU')]\n",
      "Selected port: 55851\n"
     ]
    },
    {
     "name": "stderr",
     "output_type": "stream",
     "text": [
      "2024-03-03 07:51:06.895737: E tensorflow/stream_executor/cuda/cuda_blas.cc:2981] Unable to register cuBLAS factory: Attempting to register factory for plugin cuBLAS when one has already been registered\n",
      "\n",
      "NOTE: Using experimental fast data loading logic. To disable, pass\n",
      "    \"--load_fast=false\" and report issues on GitHub. More details:\n",
      "    https://github.com/tensorflow/tensorboard/issues/4784\n",
      "\n",
      "Serving TensorBoard on localhost; to expose to the network, use a proxy or pass --bind_all\n",
      "TensorBoard 2.10.1 at http://localhost:55851/ (Press CTRL+C to quit)\n"
     ]
    }
   ],
   "source": [
    "import sys\n",
    "sys.path.append(\"..\")\n",
    "from SARSA_Agent import *\n",
    "from ENV_DETAILS import *\n",
    "from RUN_TENSORBOARD import *\n",
    "\n",
    "events_folder = \"./logs_hyper\"\n",
    "main(\"./logs_hyper\")"
   ]
  },
  {
   "cell_type": "code",
   "execution_count": 2,
   "metadata": {},
   "outputs": [],
   "source": [
    "\n",
    "ENV = \"LunarLander-v2\"\n",
    "SUCESS_CRITERIA_VALUE = ENV_DETAILS[ENV][\"SUCESS_CRITERIA_VALUE\"]\n",
    "SUCESS_CRITERIA_EPOCH = ENV_DETAILS[ENV][\"SUCESS_CRITERIA_EPOCH\"]\n",
    "EPISODES = ENV_DETAILS[ENV][\"EPISODES\"]"
   ]
  },
  {
   "cell_type": "code",
   "execution_count": 3,
   "metadata": {},
   "outputs": [
    {
     "data": {
      "text/plain": [
       "<TimeLimit<OrderEnforcing<LunarLander<LunarLander-v2>>>>"
      ]
     },
     "execution_count": 3,
     "metadata": {},
     "output_type": "execute_result"
    }
   ],
   "source": [
    "env = gym.make(ENV)#,new_step_api=True\n",
    "env"
   ]
  },
  {
   "cell_type": "code",
   "execution_count": 4,
   "metadata": {},
   "outputs": [
    {
     "data": {
      "text/plain": [
       "(array([-0.05034237, -0.42907217,  0.25956962,  0.8996386 ,  0.17745754,\n",
       "        -1.0393299 ,  0.63083696, -0.5282965 ], dtype=float32),\n",
       " (8,))"
      ]
     },
     "execution_count": 4,
     "metadata": {},
     "output_type": "execute_result"
    }
   ],
   "source": [
    "s = env.observation_space.sample()\n",
    "s, s.shape"
   ]
  },
  {
   "cell_type": "code",
   "execution_count": 5,
   "metadata": {},
   "outputs": [
    {
     "data": {
      "text/plain": [
       "(Box(-inf, inf, (8,), float32), (8,))"
      ]
     },
     "execution_count": 5,
     "metadata": {},
     "output_type": "execute_result"
    }
   ],
   "source": [
    "env.observation_space, env.observation_space.shape"
   ]
  },
  {
   "cell_type": "code",
   "execution_count": 6,
   "metadata": {},
   "outputs": [
    {
     "data": {
      "text/plain": [
       "(4,\n",
       " Discrete(4),\n",
       " (array([ 0.01491423,  1.4020689 ,  0.74720865, -0.20954564, -0.01482209,\n",
       "         -0.12267981,  0.        ,  0.        ], dtype=float32),\n",
       "  0.4194193755830906,\n",
       "  False,\n",
       "  {}))"
      ]
     },
     "execution_count": 6,
     "metadata": {},
     "output_type": "execute_result"
    }
   ],
   "source": [
    "s = env.reset()\n",
    "env.action_space.n, env.action_space, env.step(1)"
   ]
  },
  {
   "attachments": {},
   "cell_type": "markdown",
   "metadata": {},
   "source": [
    "### Training/Hyperparam run"
   ]
  },
  {
   "cell_type": "code",
   "execution_count": 7,
   "metadata": {},
   "outputs": [],
   "source": [
    "TUNING_TYPE = \"BAYES\"\n",
    "HYPERPARAM_TUNING = True\n",
    "writer= \"Training/fit_SARSA/\""
   ]
  },
  {
   "cell_type": "code",
   "execution_count": 8,
   "metadata": {},
   "outputs": [
    {
     "name": "stdout",
     "output_type": "stream",
     "text": [
      "Trial number :  1\n",
      "\n",
      "Search: Running Trial #1\n",
      "\n",
      "Value             |Best Value So Far |Hyperparameter\n",
      "0.97              |0.97              |discount\n",
      "0.001672          |0.001672          |learning_rate\n",
      "800               |800               |time_to_update\n",
      "1                 |1                 |n_dense_layers\n",
      "180               |180               |dense_units_0\n",
      "\n",
      "Trial number :  1\n"
     ]
    }
   ],
   "source": [
    "if HYPERPARAM_TUNING:\n",
    "\n",
    "    dir = r\"Hyperparam_kt_SARSA\"\n",
    "    for exploration_tech in [\"epsilon\"]:#, \"boltzman\"]:\n",
    "\n",
    "        project_name = \"keras_tunning_\"+exploration_tech\n",
    "        tuner = kt.BayesianOptimization(\n",
    "            MyHyperModel( hyper_dir = dir+\"/\"+project_name,  writer = \"logs_hyper/SARSA_\"+exploration_tech+\"/\", exploration_tech =exploration_tech,\n",
    "                         sucess_criteria_epochs = SUCESS_CRITERIA_EPOCH, sucess_criteria_value = SUCESS_CRITERIA_VALUE,\n",
    "                  end_of_episode = EPISODES, batch = 32,  evaluation_epoch = 2000, \n",
    "                   training_steps = 700000, \n",
    "                   time_to_update_min = 200, time_to_update_max = 800,\n",
    "                   lr_min = 0.000005, lr_max = 0.005,\n",
    "                   discount_min = 0.90, discount_max = 0.99,\n",
    "                   dense_min = 32, dense_max = 256,\n",
    "                   environment_name = ENV,\n",
    "                   max_n_layers = 2),\n",
    "            objective= kt.Objective('total_train_reward', direction=\"max\"), \n",
    "            max_trials = 50,\n",
    "            # distribution_strategy=tf.distribute.MirroredStrategy(),\n",
    "            directory= dir,\n",
    "            project_name=project_name\n",
    "        )\n",
    "    tuner.search(x=[0], y=[1])\n",
    "\n",
    "\n",
    "else : \n",
    "    print(\"Acquiring parameters ....\")\n",
    "    learning_rate = 0.1\n",
    "    training_steps = 5000000\n",
    "    exploration_tech = \"epsilon\"\n",
    "    discount = 0.99\n",
    "    time_to_update = 100\n",
    "    max_n_layers = 1\n",
    "    dense_units = [32]\n",
    "    end_of_episode = EPISODES\n",
    "    sucess_criteria_epochs = SUCESS_CRITERIA_EPOCH\n",
    "    sucess_criteria_value = SUCESS_CRITERIA_VALUE\n",
    "    run_training(training_steps, learning_rate,  exploration_tech, discount, time_to_update, max_n_layers, dense_units, writer, end_of_episode, sucess_criteria_epochs, sucess_criteria_value)"
   ]
  },
  {
   "cell_type": "code",
   "execution_count": null,
   "metadata": {},
   "outputs": [],
   "source": [
    "val_env = gym.make(ENV)\n",
    "\n",
    "for exploration_tech in [\"epsilon\", \"boltzman\"]:\n",
    "\n",
    "    project_name = \"keras_tunning_\"+exploration_tech\n",
    "    tuner = kt.BayesianOptimization(\n",
    "        MyHyperModel( hyper_dir = dir+\"/\"+project_name,  writer = \"logs_hyper/SARSA_\"+exploration_tech+\"/\", exploration_tech =exploration_tech,\n",
    "                        sucess_criteria_epochs = SUCESS_CRITERIA_EPOCH, sucess_criteria_value = SUCESS_CRITERIA_VALUE,\n",
    "                end_of_episode = EPISODES, batch = 32,  evaluation_epoch = 2000, \n",
    "                training_steps = 700000, \n",
    "                time_to_update_min = 200, time_to_update_max = 800,\n",
    "                lr_min = 0.000005, lr_max = 0.005,\n",
    "                discount_min = 0.90, discount_max = 0.99,\n",
    "                dense_min = 32, dense_max = 256,\n",
    "                environment_name = ENV,\n",
    "                max_n_layers = 2),\n",
    "        objective= kt.Objective('total_train_reward', direction=\"max\"), \n",
    "        max_trials = 50,\n",
    "        directory= dir,\n",
    "        project_name=project_name\n",
    "    )\n",
    "\n",
    "    for trials in tuner.oracle.get_best_trials(num_trials=3):\n",
    "        print(f\"Trial id :{trials.trial_id} | Score :{trials.score} -->\",trials.hyperparameters.values)\n",
    "        \n",
    "\n",
    "    print(tuner.get_best_models())\n",
    "    env_model = tuner.get_best_models()[0]\n",
    "    final_rewards = final_evaluation(env_model,val_env,n_tries=200, exploration=exploration_tech,  video_name = \"./SARSA_\"+exploration_tech+\"_video.mp4\")\n",
    "    print(\"Final mean reward '\",exploration_tech,\"':\", np.mean(final_rewards))\n",
    "\n",
    "    "
   ]
  },
  {
   "cell_type": "code",
   "execution_count": null,
   "metadata": {},
   "outputs": [],
   "source": []
  }
 ],
 "metadata": {
  "accelerator": "GPU",
  "colab": {
   "collapsed_sections": [],
   "machine_shape": "hm",
   "name": "MountainCar_A3C_TF1.ipynb",
   "provenance": [
    {
     "file_id": "13V9JMDwUOkrM9DucPAwwgBQfllmy9kjl",
     "timestamp": 1578567519575
    },
    {
     "file_id": "1rnkjQiF2XrsLm9SMvOuTxe8vX_7hZozI",
     "timestamp": 1578558966437
    }
   ]
  },
  "kernelspec": {
   "display_name": "ai_dev",
   "language": "python",
   "name": "python3"
  },
  "language_info": {
   "codemirror_mode": {
    "name": "ipython",
    "version": 3
   },
   "file_extension": ".py",
   "mimetype": "text/x-python",
   "name": "python",
   "nbconvert_exporter": "python",
   "pygments_lexer": "ipython3",
   "version": "3.10.13"
  },
  "vscode": {
   "interpreter": {
    "hash": "e97097829de60fff0360ae9237ac6de2911bdcd7f22e62fb944aef663864db87"
   }
  }
 },
 "nbformat": 4,
 "nbformat_minor": 4
}
