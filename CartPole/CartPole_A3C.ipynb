{
 "cells": [
  {
   "attachments": {},
   "cell_type": "markdown",
   "metadata": {},
   "source": [
    "# Checking enviroment states and action sets"
   ]
  },
  {
   "cell_type": "code",
   "execution_count": 1,
   "metadata": {},
   "outputs": [
    {
     "name": "stderr",
     "output_type": "stream",
     "text": [
      "2023-03-25 10:54:49.086397: E tensorflow/stream_executor/cuda/cuda_blas.cc:2981] Unable to register cuBLAS factory: Attempting to register factory for plugin cuBLAS when one has already been registered\n"
     ]
    },
    {
     "name": "stdout",
     "output_type": "stream",
     "text": [
      "Num devices available:  [PhysicalDevice(name='/physical_device:CPU:0', device_type='CPU'), PhysicalDevice(name='/physical_device:GPU:0', device_type='GPU')]\n"
     ]
    }
   ],
   "source": [
    "import sys\n",
    "import os.path\n",
    "sys.path.append(\"..\")\n",
    "from A3C_Agent import *\n",
    "from ENV_DETAILS import *"
   ]
  },
  {
   "cell_type": "code",
   "execution_count": 2,
   "metadata": {},
   "outputs": [],
   "source": [
    "if os.name == 'nt':\n",
    "    main_hyper_dir = \"D:\\\\Artificial_Intelligence\\\\Portfolio\\\\RL_updated\\\\CartPole\\\\\" # Windows\n",
    "    conda_python_exec = 'C:\\\\Users\\\\yanie\\\\anaconda3\\\\envs\\\\ai_dev\\\\python.exe '# Windows\n",
    "    logs_dir = main_hyper_dir+'Hyperparam_tuning\\\\' # Windows\n",
    "else:\n",
    "    main_hyper_dir = \"/media/n/NewDisk/Artificial_Intelligence/Portfolio/RL_updated/CartPole/\" # Linux\n",
    "    conda_python_exec = '/home/n/anaconda3/envs/ai_dev/bin/python '# Linux\n",
    "    logs_dir = main_hyper_dir+'Hyperparam_tuning_a3c/' # Linux\n",
    "\n",
    "ENV = \"CartPole-v0\"\n",
    "SUCESS_CRITERIA_VALUE = ENV_DETAILS[ENV][\"SUCESS_CRITERIA_VALUE\"]\n",
    "SUCESS_CRITERIA_EPOCH = ENV_DETAILS[ENV][\"SUCESS_CRITERIA_EPOCH\"]\n",
    "EPISODES = ENV_DETAILS[ENV][\"EPISODES\"]"
   ]
  },
  {
   "cell_type": "code",
   "execution_count": 3,
   "metadata": {},
   "outputs": [
    {
     "data": {
      "text/plain": [
       "<TimeLimit<OrderEnforcing<PassiveEnvChecker<CartPoleEnv<CartPole-v0>>>>>"
      ]
     },
     "execution_count": 3,
     "metadata": {},
     "output_type": "execute_result"
    }
   ],
   "source": [
    "\n",
    "env = gym.make(ENV)\n",
    "env\n"
   ]
  },
  {
   "cell_type": "code",
   "execution_count": 4,
   "metadata": {},
   "outputs": [
    {
     "data": {
      "text/plain": [
       "array([ 2.6159937e+00,  2.9305970e+38, -2.1347204e-01,  3.0159359e+38],\n",
       "      dtype=float32)"
      ]
     },
     "execution_count": 4,
     "metadata": {},
     "output_type": "execute_result"
    }
   ],
   "source": [
    "s = env.observation_space.sample()\n",
    "s"
   ]
  },
  {
   "cell_type": "code",
   "execution_count": 5,
   "metadata": {},
   "outputs": [
    {
     "data": {
      "text/plain": [
       "(Box([-4.8000002e+00 -3.4028235e+38 -4.1887903e-01 -3.4028235e+38], [4.8000002e+00 3.4028235e+38 4.1887903e-01 3.4028235e+38], (4,), float32),\n",
       " (4,))"
      ]
     },
     "execution_count": 5,
     "metadata": {},
     "output_type": "execute_result"
    }
   ],
   "source": [
    "env.observation_space, env.observation_space.shape"
   ]
  },
  {
   "cell_type": "code",
   "execution_count": 6,
   "metadata": {},
   "outputs": [
    {
     "data": {
      "text/plain": [
       "array([-0.02180883, -0.00354089,  0.03831058,  0.00524108], dtype=float32)"
      ]
     },
     "execution_count": 6,
     "metadata": {},
     "output_type": "execute_result"
    }
   ],
   "source": [
    "s = env.reset()\n",
    "s[0]"
   ]
  },
  {
   "cell_type": "code",
   "execution_count": 7,
   "metadata": {},
   "outputs": [
    {
     "data": {
      "text/plain": [
       "(2,\n",
       " Discrete(2),\n",
       " (array([ 0.03087262,  0.21041219, -0.03722824, -0.2857502 ], dtype=float32),\n",
       "  1.0,\n",
       "  False,\n",
       "  False,\n",
       "  {}))"
      ]
     },
     "execution_count": 7,
     "metadata": {},
     "output_type": "execute_result"
    }
   ],
   "source": [
    "s = env.reset()[0]\n",
    "env.action_space.n, env.action_space, env.step(1)"
   ]
  },
  {
   "attachments": {},
   "cell_type": "markdown",
   "metadata": {},
   "source": [
    "# Advantage Asynch Actor-Critic \n",
    "\n",
    "This time we will implement the A3C not considering Actor and Critic as part of the same network"
   ]
  },
  {
   "attachments": {},
   "cell_type": "markdown",
   "metadata": {},
   "source": [
    "### Training/Hyperparam run"
   ]
  },
  {
   "cell_type": "code",
   "execution_count": 8,
   "metadata": {},
   "outputs": [
    {
     "name": "stderr",
     "output_type": "stream",
     "text": [
      "UsageError: Line magic function `%tensorboard` not found.\n"
     ]
    }
   ],
   "source": [
    "%tensorboard --logdir logs_general/hyper"
   ]
  },
  {
   "cell_type": "code",
   "execution_count": 9,
   "metadata": {},
   "outputs": [],
   "source": [
    "TUNING_TYPE = \"BAYES\"\n",
    "HYPERPARAM_TUNING = True\n",
    "writer= \"Training/fit_A3C/\"\n",
    "\n",
    "if TUNING_TYPE == \"MANUAL\":\n",
    "    params = {}\n",
    "    params[\"n_enviroment\"] =[20]\n",
    "    params[\"discount\"] =[0.96, 0.97]\n",
    "    params[\"end_of_episode\"] = [400]\n",
    "    params[\"learning_rate\"] = [0.001]\n",
    "    params[\"entropy_factor\"] = [ 0.01, 0.05]\n",
    "    params[\"epsilon\"] = [1]\n",
    "    params[\"boltzman_factor\"] = [1]\n",
    "    params[\"exploration_technique\"] = ['soft', 'epsilon']\n",
    "    params[\"training_steps\"] = [3000000]\n",
    "    params[\"dense_units\"] = [32, 128]\n",
    "    params[\"time_to_update\"] = [400]\n",
    "    params[\"use_LSTM\"] =[False]\n",
    "\n",
    "\n",
    "    hyperparam_combination = list(itertools.product(*list(params.values())))\n",
    "    \n",
    "\n",
    "    try:\n",
    "\n",
    "        files = [name for name in os.listdir(logs_dir) if os.path.isfile(os.path.join(logs_dir, name)) and name != \"logfile.txt\" and name != \"merged_results.json\"]\n",
    "        if len(files) >= 1: merge_JsonFiles(main_hyper_dir, logs_dir, files)\n",
    "\n",
    "        res_file = logs_dir+\"merged_results.json\"\n",
    "        def without_keys(d, keys):\n",
    "            return {x: d[x] for x in d if x not in keys}\n",
    "\n",
    "\n",
    "        if os.path.isfile(res_file):\n",
    "            with open(res_file, 'r') as f:\n",
    "                complete_file = json.load(f)\n",
    "\n",
    "            newlist = sorted(complete_file, key=lambda d: d['mean_rewards'], reverse=True) \n",
    "            params = []\n",
    "            for i, f in enumerate(newlist):\n",
    "                label = \"disc : \"+str(f['discount'])+\" | \"+\"lr : \"+str(f['learning_rate'])+\" | \"+\"entropy : \"+str(f['entropy_factor'])+\" | \"+\"update : \"+str(f['time_to_update'])\n",
    "                plt.figure(figsize=[35,4])\n",
    "                plt.plot(f['rewards'], label = label)\n",
    "                plt.legend()\n",
    "                max_mean_reward = f['mean_rewards']\n",
    "                params.append(f)\n",
    "                print(without_keys(f,\"rewards\"))\n",
    "                if i == 10:\n",
    "                    break\n",
    "            plt.title(\"Evaluation rewards\"); plt.grid();\n",
    "            plt.show()\n",
    "\n",
    "    except:\n",
    "        pass\n",
    "\n",
    "    \n"
   ]
  },
  {
   "cell_type": "code",
   "execution_count": 10,
   "metadata": {},
   "outputs": [
    {
     "name": "stdout",
     "output_type": "stream",
     "text": [
      "Trial 30 Complete [01h 07m 20s]\n",
      "total_train_reward: 9.21\n",
      "\n",
      "Best total_train_reward So Far: 439.48\n",
      "Total elapsed time: 17h 03m 27s\n",
      "INFO:tensorflow:Oracle triggered exit\n"
     ]
    }
   ],
   "source": [
    "if HYPERPARAM_TUNING:\n",
    "\n",
    "    dir = r\"Hyperparam_kt_A3C\"\n",
    "    project_name = \"keras_tunning_soft\"\n",
    "\n",
    "    tuner = kt.BayesianOptimization(\n",
    "            MyHyperModel(hyper_dir = dir+\"/\"+project_name,  writer = \"logs_hyper/A3C_soft/\", \n",
    "                          end_of_episode = EPISODES, n_enviroment = 5, \n",
    "                  evaluation_epoch = 2000, training_steps = 600000,\n",
    "                  sucess_criteria_epochs = SUCESS_CRITERIA_EPOCH, sucess_criteria_value= SUCESS_CRITERIA_VALUE,\n",
    "                  discount_min = 0.90, discount_max = 0.99,\n",
    "                  entropy_min = 0.0001, entropy_max = 0.05,\n",
    "                  lr_min = 0.00001, lr_max = 0.005,\n",
    "                  dense_min = 32, dense_max = 500,\n",
    "                  lstm_min = 32, lstm_max = 128,\n",
    "                  time_to_update_min = 100, time_to_update_max=600,\n",
    "                  environment_name=ENV),\n",
    "            objective= kt.Objective('total_train_reward', direction=\"max\"), \n",
    "            max_trials = 30,\n",
    "            # distribution_strategy= strategy,\n",
    "            directory=dir,\n",
    "            project_name=project_name\n",
    "        )\n",
    "    tuner.search(x=[0], y=[1])\n",
    "    \n",
    "    # project_name = \"keras_tunning_epsilon\"\n",
    "    # tuner = kt.BayesianOptimization(\n",
    "    #         MyHyperModel(hyper_dir = dir+\"/\"+project_name,  writer = \"logs_hyper/A3C_epsilon/\", exploration_tech = \"epsilon\"),\n",
    "    #         objective= kt.Objective('total_train_reward', direction=\"max\"), \n",
    "    #         max_trials = 50,\n",
    "    #         # distribution_strategy= strategy,\n",
    "    #         directory=dir,\n",
    "    #         project_name=project_name\n",
    "    #     )\n",
    "    # tuner.search(x=[0], y=[1])\n",
    "\n",
    "    # project_name = \"keras_tunning_boltzman\"\n",
    "    # tuner = kt.BayesianOptimization(\n",
    "    #         MyHyperModel(hyper_dir = dir+\"/\"+project_name,  writer = \"logs_hyper/A3C_boltzman/\", exploration_tech = \"boltzman\"),\n",
    "    #         objective= kt.Objective('total_train_reward', direction=\"max\"), \n",
    "    #         max_trials = 50,\n",
    "    #         # distribution_strategy= strategy,\n",
    "    #         directory=dir,\n",
    "    #         project_name=project_name\n",
    "    #     )\n",
    "    # tuner.search(x=[0], y=[1])\n",
    "\n",
    "    # dir = r\"Hyperparam_kt_A3C_LSTM\"\n",
    "    # project_name = \"keras_tunning_soft\"\n",
    "    # tuner_lstm = kt.BayesianOptimization(\n",
    "    #         MyHyperModel(hyper_dir = dir+\"/\"+project_name, writer = \"logs_A3C_LSTM/A3C_soft/\" ,use_LSTM = True),\n",
    "    #         objective= kt.Objective('total_train_reward', direction=\"max\"), \n",
    "    #         max_trials = 40,\n",
    "    #         # distribution_strategy= strategy,\n",
    "    #         directory=dir,\n",
    "    #         project_name='keras_tunning'\n",
    "    #     )\n",
    "    # tuner_lstm.search(x=[0], y=[1])\n",
    "\n",
    "    # project_name = \"keras_tunning_epsilon\"\n",
    "    # tuner_lstm = kt.BayesianOptimization(\n",
    "    #         MyHyperModel(hyper_dir = dir+\"/\"+project_name, writer = \"logs_A3C_LSTM/A3C_epsilon/\" ,use_LSTM = True, exploration_tech = \"epsilon\"),\n",
    "    #         objective= kt.Objective('total_train_reward', direction=\"max\"), \n",
    "    #         max_trials = 40,\n",
    "    #         # distribution_strategy= strategy,\n",
    "    #         directory=dir,\n",
    "    #         project_name='keras_tunning'\n",
    "    #     )\n",
    "    # tuner_lstm.search(x=[0], y=[1])\n",
    "\n",
    "    # project_name = \"keras_tunning_boltzman\"\n",
    "    # tuner_lstm = kt.BayesianOptimization(\n",
    "    #         MyHyperModel(hyper_dir = dir+\"/\"+project_name, writer = \"logs_A3C_LSTM/A3C_boltzman/\" ,use_LSTM = True, exploration_tech = \"boltzman\"),\n",
    "    #         objective= kt.Objective('total_train_reward', direction=\"max\"), \n",
    "    #         max_trials = 40,\n",
    "    #         # distribution_strategy= strategy,\n",
    "    #         directory=dir,\n",
    "    #         project_name='keras_tunning'\n",
    "    #     )\n",
    "    # tuner_lstm.search(x=[0], y=[1])\n",
    "   \n",
    "else : \n",
    "    \n",
    "    for exploration_tech in ['boltzman', 'epsilon']:\n",
    "        print(\"Acquiring parameters ....\")\n",
    "        writer= \"Training/fit_A3C/\"\n",
    "\n",
    "        n_enviroment = 10\n",
    "        training_steps = 1000000\n",
    "        learning_rate= 0.001\n",
    "        entropy_factor = 0.1\n",
    "        discount = 0.99\n",
    "        dense_units = 512\n",
    "        lstm_units = 128\n",
    "        time_to_update= 100\n",
    "        end_of_episode = 300\n",
    "        use_LSTM = False\n",
    "\n",
    "        \n",
    "        run_training(training_steps, learning_rate, entropy_factor, exploration_tech, discount, time_to_update, dense_units, lstm_units, n_enviroment, writer, use_LSTM, end_of_episode, environment_name = ENV)\n",
    "            "
   ]
  },
  {
   "cell_type": "code",
   "execution_count": 11,
   "metadata": {},
   "outputs": [
    {
     "name": "stdout",
     "output_type": "stream",
     "text": [
      "Trial id :14 | Score :439.48 --> {'discount': 0.99, 'entropy_factor': 0.00751406702996719, 'learning_rate': 0.0020767516804802663, 'dense_units': 484}\n",
      "Trial id :07 | Score :410.53 --> {'discount': 0.99, 'entropy_factor': 0.005730854698187165, 'learning_rate': 0.0021158318642483923, 'dense_units': 463}\n",
      "Trial id :12 | Score :404.71 --> {'discount': 0.99, 'entropy_factor': 0.008985247649503241, 'learning_rate': 0.002159369507438896, 'dense_units': 461}\n"
     ]
    }
   ],
   "source": [
    "exploration_tech = \"soft\"\n",
    "\n",
    "hyperparam_combination=[]\n",
    "for trials in tuner.oracle.get_best_trials(num_trials=3):\n",
    "    print(f\"Trial id :{trials.trial_id} | Score :{trials.score} -->\",trials.hyperparameters.values)\n",
    "\n",
    "    n_env = 30\n",
    "    end_ep = 1000\n",
    "    ep = 1\n",
    "    bolt_fact = 1\n",
    "    train_steps = 5000000\n",
    "    disc = trials.hyperparameters.values[\"discount\"]\n",
    "    lr = trials.hyperparameters.values[\"learning_rate\"]\n",
    "    entropy_fact = trials.hyperparameters.values[\"entropy_factor\"]\n",
    "    d = trials.hyperparameters.values[\"dense_units\"]\n",
    "    time_to_update = 100 if exploration_tech == \"soft\" else trials.hyperparameters.values[\"time_to_update\"]\n",
    "    ulstm = False\n",
    "\n",
    "    hyperparam_combination.append((n_env, disc, end_ep, lr, entropy_fact, ep, bolt_fact, exploration_tech, train_steps, d, time_to_update, ulstm))"
   ]
  },
  {
   "cell_type": "code",
   "execution_count": 12,
   "metadata": {},
   "outputs": [
    {
     "data": {
      "text/plain": [
       "(3,\n",
       " [(30,\n",
       "   0.99,\n",
       "   1000,\n",
       "   0.0020767516804802663,\n",
       "   0.00751406702996719,\n",
       "   1,\n",
       "   1,\n",
       "   'soft',\n",
       "   5000000,\n",
       "   484,\n",
       "   100,\n",
       "   False),\n",
       "  (30,\n",
       "   0.99,\n",
       "   1000,\n",
       "   0.0021158318642483923,\n",
       "   0.005730854698187165,\n",
       "   1,\n",
       "   1,\n",
       "   'soft',\n",
       "   5000000,\n",
       "   463,\n",
       "   100,\n",
       "   False),\n",
       "  (30,\n",
       "   0.99,\n",
       "   1000,\n",
       "   0.002159369507438896,\n",
       "   0.008985247649503241,\n",
       "   1,\n",
       "   1,\n",
       "   'soft',\n",
       "   5000000,\n",
       "   461,\n",
       "   100,\n",
       "   False)])"
      ]
     },
     "execution_count": 12,
     "metadata": {},
     "output_type": "execute_result"
    }
   ],
   "source": [
    "len(hyperparam_combination), hyperparam_combination"
   ]
  },
  {
   "cell_type": "code",
   "execution_count": 13,
   "metadata": {},
   "outputs": [],
   "source": [
    "# run_hyperparam(TUNING_TYPE= \"MANUAL\", TUNING_TYPE = TUNING_TYPE, hyperparam_combination = hyperparam_combination,  total_files = 4)"
   ]
  },
  {
   "cell_type": "code",
   "execution_count": 14,
   "metadata": {},
   "outputs": [
    {
     "name": "stdout",
     "output_type": "stream",
     "text": [
      "INFO:tensorflow:Reloading Tuner from Hyperparam_kt_A3C/keras_tunning_soft/tuner0.json\n",
      "Trial id :14 | Score :439.48 --> {'discount': 0.99, 'entropy_factor': 0.00751406702996719, 'learning_rate': 0.0020767516804802663, 'dense_units': 484}\n",
      "Trial number :  30\n",
      "Moviepy - Building video ./A3C_soft_video.mp4.\n",
      "Moviepy - Writing video ./A3C_soft_video.mp4\n",
      "\n"
     ]
    },
    {
     "name": "stderr",
     "output_type": "stream",
     "text": [
      "                                                               \r"
     ]
    },
    {
     "name": "stdout",
     "output_type": "stream",
     "text": [
      "Moviepy - Done !\n",
      "Moviepy - video ready ./A3C_soft_video.mp4\n",
      "Final mean reward ' soft ': 200.0\n",
      "INFO:tensorflow:Reloading Tuner from Hyperparam_kt_A3C/keras_tunning_epsilon/tuner0.json\n",
      "Trial id :02 | Score :500.0 --> {'discount': 0.99, 'entropy_factor': 0.04935492090550032, 'learning_rate': 0.0023882503832374333, 'dense_units': 451, 'time_to_update': 200}\n",
      "Trial number :  30\n",
      "WARNING:tensorflow:Detecting that an object or model or tf.train.Checkpoint is being deleted with unrestored values. See the following logs for the specific values in question. To silence these warnings, use `status.expect_partial()`. See https://www.tensorflow.org/api_docs/python/tf/train/Checkpoint#restorefor details about the status object returned by the restore function.\n",
      "WARNING:tensorflow:Value in checkpoint could not be found in the restored object: (root).optimizer.iter\n",
      "WARNING:tensorflow:Value in checkpoint could not be found in the restored object: (root).optimizer.beta_1\n",
      "WARNING:tensorflow:Value in checkpoint could not be found in the restored object: (root).optimizer.beta_2\n",
      "WARNING:tensorflow:Value in checkpoint could not be found in the restored object: (root).optimizer.decay\n",
      "WARNING:tensorflow:Value in checkpoint could not be found in the restored object: (root).optimizer.learning_rate\n",
      "Moviepy - Building video ./A3C_epsilon_video.mp4.\n",
      "Moviepy - Writing video ./A3C_epsilon_video.mp4\n",
      "\n"
     ]
    },
    {
     "name": "stderr",
     "output_type": "stream",
     "text": [
      "                                                               \r"
     ]
    },
    {
     "name": "stdout",
     "output_type": "stream",
     "text": [
      "Moviepy - Done !\n",
      "Moviepy - video ready ./A3C_epsilon_video.mp4\n",
      "Final mean reward ' epsilon ': 200.0\n",
      "INFO:tensorflow:Reloading Tuner from Hyperparam_kt_A3C/keras_tunning_boltzman/tuner0.json\n",
      "Trial id :21 | Score :491.54 --> {'discount': 0.99, 'entropy_factor': 0.04956271975918202, 'learning_rate': 0.001161826272092857, 'dense_units': 392, 'time_to_update': 500}\n",
      "Trial number :  24\n",
      "WARNING:tensorflow:Detecting that an object or model or tf.train.Checkpoint is being deleted with unrestored values. See the following logs for the specific values in question. To silence these warnings, use `status.expect_partial()`. See https://www.tensorflow.org/api_docs/python/tf/train/Checkpoint#restorefor details about the status object returned by the restore function.\n",
      "WARNING:tensorflow:Value in checkpoint could not be found in the restored object: (root).optimizer.iter\n",
      "WARNING:tensorflow:Value in checkpoint could not be found in the restored object: (root).optimizer.beta_1\n",
      "WARNING:tensorflow:Value in checkpoint could not be found in the restored object: (root).optimizer.beta_2\n",
      "WARNING:tensorflow:Value in checkpoint could not be found in the restored object: (root).optimizer.decay\n",
      "WARNING:tensorflow:Value in checkpoint could not be found in the restored object: (root).optimizer.learning_rate\n",
      "Moviepy - Building video ./A3C_boltzman_video.mp4.\n",
      "Moviepy - Writing video ./A3C_boltzman_video.mp4\n",
      "\n"
     ]
    },
    {
     "name": "stderr",
     "output_type": "stream",
     "text": [
      "                                                               \r"
     ]
    },
    {
     "name": "stdout",
     "output_type": "stream",
     "text": [
      "Moviepy - Done !\n",
      "Moviepy - video ready ./A3C_boltzman_video.mp4\n",
      "Final mean reward ' boltzman ': 200.0\n"
     ]
    }
   ],
   "source": [
    "\n",
    "val_env = gym.make(ENV, render_mode = \"rgb_array\")\n",
    "dir = r\"Hyperparam_kt_A3C\"\n",
    "\n",
    "for exploration_tech in [\"soft\" ,\"epsilon\", \"boltzman\"]:\n",
    "\n",
    "    project_name = \"keras_tunning_\"+exploration_tech\n",
    "\n",
    "    tuner = kt.BayesianOptimization(\n",
    "            MyHyperModel( hyper_dir = dir+\"/\"+project_name,  writer = \"logs_hyper/A3C_\"+exploration_tech+\"/\", exploration_tech =exploration_tech, \n",
    "                          end_of_episode = EPISODES, n_enviroment = 5, \n",
    "                  evaluation_epoch = 2000, training_steps = 600000,\n",
    "                  sucess_criteria_epochs = SUCESS_CRITERIA_EPOCH, sucess_criteria_value= SUCESS_CRITERIA_VALUE,\n",
    "                  discount_min = 0.90, discount_max = 0.99,\n",
    "                  entropy_min = 0.0001, entropy_max = 0.05,\n",
    "                  lr_min = 0.00001, lr_max = 0.005,\n",
    "                  dense_min = 32, dense_max = 500,\n",
    "                  lstm_min = 32, lstm_max = 128,\n",
    "                  time_to_update_min = 100, time_to_update_max=600,\n",
    "                  environment_name=ENV),\n",
    "            objective= kt.Objective('total_train_reward', direction=\"max\"), \n",
    "            max_trials = 30,\n",
    "            # distribution_strategy= strategy,\n",
    "            directory=dir,\n",
    "            project_name=project_name\n",
    "        )\n",
    "\n",
    "    for trials in tuner.oracle.get_best_trials(num_trials=1):\n",
    "        print(f\"Trial id :{trials.trial_id} | Score :{trials.score} -->\",trials.hyperparameters.values)\n",
    "        \n",
    "\n",
    "    env_model = tuner.get_best_models()[0]\n",
    "    final_rewards = final_evaluation(env_model,val_env,n_tries=200, exploration=exploration_tech,  video_name = \"./A3C_\"+exploration_tech+\"_video.mp4\")\n",
    "    print(\"Final mean reward '\",exploration_tech,\"':\", np.mean(final_rewards))\n",
    "\n",
    "    "
   ]
  }
 ],
 "metadata": {
  "accelerator": "GPU",
  "colab": {
   "collapsed_sections": [],
   "machine_shape": "hm",
   "name": "MountainCar_A3C_TF1.ipynb",
   "provenance": [
    {
     "file_id": "13V9JMDwUOkrM9DucPAwwgBQfllmy9kjl",
     "timestamp": 1578567519575
    },
    {
     "file_id": "1rnkjQiF2XrsLm9SMvOuTxe8vX_7hZozI",
     "timestamp": 1578558966437
    }
   ]
  },
  "kernelspec": {
   "display_name": "ai_dev",
   "language": "python",
   "name": "python3"
  },
  "language_info": {
   "codemirror_mode": {
    "name": "ipython",
    "version": 3
   },
   "file_extension": ".py",
   "mimetype": "text/x-python",
   "name": "python",
   "nbconvert_exporter": "python",
   "pygments_lexer": "ipython3",
   "version": "3.8.0"
  },
  "vscode": {
   "interpreter": {
    "hash": "e97097829de60fff0360ae9237ac6de2911bdcd7f22e62fb944aef663864db87"
   }
  }
 },
 "nbformat": 4,
 "nbformat_minor": 4
}
