{
 "cells": [
  {
   "attachments": {},
   "cell_type": "markdown",
   "metadata": {},
   "source": [
    "# Checking enviroment states and action sets"
   ]
  },
  {
   "cell_type": "code",
   "execution_count": 1,
   "metadata": {},
   "outputs": [
    {
     "name": "stderr",
     "output_type": "stream",
     "text": [
      "2023-04-03 10:30:38.722676: E tensorflow/stream_executor/cuda/cuda_blas.cc:2981] Unable to register cuBLAS factory: Attempting to register factory for plugin cuBLAS when one has already been registered\n"
     ]
    },
    {
     "name": "stdout",
     "output_type": "stream",
     "text": [
      "Num devices available:  [PhysicalDevice(name='/physical_device:CPU:0', device_type='CPU'), PhysicalDevice(name='/physical_device:GPU:0', device_type='GPU')]\n"
     ]
    }
   ],
   "source": [
    "import sys\n",
    "sys.path.append(\"..\")\n",
    "from SARSA_Agent import *\n",
    "from ENV_DETAILS import *"
   ]
  },
  {
   "cell_type": "code",
   "execution_count": 2,
   "metadata": {},
   "outputs": [],
   "source": [
    "ENV = \"CartPole-v0\"\n",
    "SUCESS_CRITERIA_VALUE = ENV_DETAILS[ENV][\"SUCESS_CRITERIA_VALUE\"]\n",
    "SUCESS_CRITERIA_EPOCH = ENV_DETAILS[ENV][\"SUCESS_CRITERIA_EPOCH\"]\n",
    "EPISODES = ENV_DETAILS[ENV][\"EPISODES\"]"
   ]
  },
  {
   "cell_type": "code",
   "execution_count": 3,
   "metadata": {},
   "outputs": [
    {
     "data": {
      "text/plain": [
       "<TimeLimit<OrderEnforcing<PassiveEnvChecker<CartPoleEnv<CartPole-v0>>>>>"
      ]
     },
     "execution_count": 3,
     "metadata": {},
     "output_type": "execute_result"
    }
   ],
   "source": [
    "env = gym.make(ENV)#,new_step_api=True\n",
    "env"
   ]
  },
  {
   "cell_type": "code",
   "execution_count": 4,
   "metadata": {},
   "outputs": [
    {
     "data": {
      "text/plain": [
       "(array([-1.0458909e+00,  1.6361862e+38, -2.4187055e-01, -1.0400335e+38],\n",
       "       dtype=float32),\n",
       " (4,))"
      ]
     },
     "execution_count": 4,
     "metadata": {},
     "output_type": "execute_result"
    }
   ],
   "source": [
    "s = env.observation_space.sample()\n",
    "s, s.shape"
   ]
  },
  {
   "cell_type": "code",
   "execution_count": 5,
   "metadata": {},
   "outputs": [
    {
     "data": {
      "text/plain": [
       "(Box([-4.8000002e+00 -3.4028235e+38 -4.1887903e-01 -3.4028235e+38], [4.8000002e+00 3.4028235e+38 4.1887903e-01 3.4028235e+38], (4,), float32),\n",
       " (4,))"
      ]
     },
     "execution_count": 5,
     "metadata": {},
     "output_type": "execute_result"
    }
   ],
   "source": [
    "env.observation_space, env.observation_space.shape"
   ]
  },
  {
   "cell_type": "code",
   "execution_count": 6,
   "metadata": {},
   "outputs": [
    {
     "data": {
      "text/plain": [
       "(2,\n",
       " Discrete(2),\n",
       " (array([ 0.00522471,  0.17668733,  0.00410144, -0.31918937], dtype=float32),\n",
       "  1.0,\n",
       "  False,\n",
       "  False,\n",
       "  {}))"
      ]
     },
     "execution_count": 6,
     "metadata": {},
     "output_type": "execute_result"
    }
   ],
   "source": [
    "s = env.reset()\n",
    "env.action_space.n, env.action_space, env.step(1)"
   ]
  },
  {
   "attachments": {},
   "cell_type": "markdown",
   "metadata": {},
   "source": [
    "### Training/Hyperparam run"
   ]
  },
  {
   "cell_type": "code",
   "execution_count": 7,
   "metadata": {},
   "outputs": [
    {
     "name": "stderr",
     "output_type": "stream",
     "text": [
      "UsageError: Line magic function `%tensorboard` not found.\n"
     ]
    }
   ],
   "source": [
    "%tensorboard --logdir logs_general/hyper"
   ]
  },
  {
   "cell_type": "code",
   "execution_count": 8,
   "metadata": {},
   "outputs": [],
   "source": [
    "TUNING_TYPE = \"BAYES\"\n",
    "HYPERPARAM_TUNING = True\n",
    "writer= \"Training/fit_SARSA/\""
   ]
  },
  {
   "cell_type": "code",
   "execution_count": 9,
   "metadata": {},
   "outputs": [
    {
     "name": "stdout",
     "output_type": "stream",
     "text": [
      "Trial 50 Complete [01h 10m 00s]\n",
      "total_train_reward: 9.37\n",
      "\n",
      "Best total_train_reward So Far: 303.45\n",
      "Total elapsed time: 1d 00h 49m 52s\n",
      "INFO:tensorflow:Oracle triggered exit\n"
     ]
    }
   ],
   "source": [
    "if HYPERPARAM_TUNING:\n",
    "\n",
    "    dir = r\"Hyperparam_kt_SARSA\"\n",
    "    project_name = \"keras_tunning_epsilon\"\n",
    "    tuner = kt.BayesianOptimization(\n",
    "            MyHyperModel( hyper_dir = dir+\"/\"+project_name,  writer = \"logs_hyper/SARSA_epsilon/\", exploration_tech ='epsilon' ,\n",
    "                         sucess_criteria_epochs = SUCESS_CRITERIA_EPOCH, sucess_criteria_value = SUCESS_CRITERIA_VALUE,\n",
    "                  end_of_episode = EPISODES, batch = 32,  evaluation_epoch = 2000, \n",
    "                   training_steps = 1000000, \n",
    "                   time_to_update_min = 100, time_to_update_max = 800,\n",
    "                   lr_min = 0.000005, lr_max = 0.005,\n",
    "                   discount_min = 0.90, discount_max = 0.99,\n",
    "                   dense_min = 32, dense_max = 512,\n",
    "                   environment_name = ENV ),\n",
    "            objective= kt.Objective('total_train_reward', direction=\"max\"), \n",
    "            max_trials = 50,\n",
    "            # distribution_strategy=tf.distribute.MirroredStrategy(),\n",
    "            directory= dir,\n",
    "            project_name=project_name\n",
    "        )\n",
    "    tuner.search(x=[0], y=[1])\n",
    "\n",
    "    # project_name = \"keras_tunning_boltzman\"\n",
    "    # tuner = kt.BayesianOptimization(\n",
    "    #         MyHyperModel( hyper_dir = dir+\"/\"+project_name,  writer = \"logs_hyperV2/SARSA_boltzman/\", exploration_tech ='boltzman' ),\n",
    "    #         objective= kt.Objective('total_train_reward', direction=\"max\"), \n",
    "    #         max_trials = 20,\n",
    "    #         # distribution_strategy=tf.distribute.MirroredStrategy(),\n",
    "    #         directory= dir,\n",
    "    #         project_name=project_name\n",
    "    #     )\n",
    "    # tuner.search(x=[0], y=[1])\n",
    "   \n",
    "else : \n",
    "    print(\"Acquiring parameters ....\")\n",
    "    learning_rate = 0.1\n",
    "    training_steps = 5000000\n",
    "    exploration_tech = \"epsilon\"\n",
    "    discount = 0.99\n",
    "    time_to_update = 100\n",
    "    dense_units = 32\n",
    "    end_of_episode = EPISODES\n",
    "    sucess_criteria_epochs = SUCESS_CRITERIA_EPOCH\n",
    "    sucess_criteria_value = SUCESS_CRITERIA_VALUE\n",
    "    run_training(training_steps, learning_rate,  exploration_tech, discount, time_to_update, dense_units, writer, end_of_episode, sucess_criteria_epochs, sucess_criteria_value)"
   ]
  },
  {
   "cell_type": "code",
   "execution_count": 10,
   "metadata": {},
   "outputs": [
    {
     "name": "stdout",
     "output_type": "stream",
     "text": [
      "Trial id :18 | Score :303.45 --> {'discount': 0.92, 'learning_rate': 0.0023892089991202374, 'time_to_update': 200, 'dense_units': 493}\n",
      "Trial id :29 | Score :275.1 --> {'discount': 0.9, 'learning_rate': 0.0033187624977281524, 'time_to_update': 200, 'dense_units': 457}\n",
      "Trial id :24 | Score :153.72 --> {'discount': 0.92, 'learning_rate': 0.0034375623201747746, 'time_to_update': 100, 'dense_units': 508}\n"
     ]
    }
   ],
   "source": [
    "exploration_tech=\"epsilon\"\n",
    "\n",
    "hyperparam_combination =[]\n",
    "for trials in tuner.oracle.get_best_trials(num_trials=3):\n",
    "    print(f\"Trial id :{trials.trial_id} | Score :{trials.score} -->\",trials.hyperparameters.values)\n",
    "\n",
    "    disc = trials.hyperparameters.values[\"discount\"]\n",
    "    end_ep = 1000\n",
    "    train_steps = 5000000\n",
    "    d = trials.hyperparameters.values[\"dense_units\"]\n",
    "    lr = trials.hyperparameters.values[\"learning_rate\"]\n",
    "    time_to_update = trials.hyperparameters.values[\"time_to_update\"]\n",
    "\n",
    "    # hyperparam_combination.append((disc, end_ep, lr, tau_update_network, exploration_tech, train_steps, d, time_to_update))\n"
   ]
  },
  {
   "cell_type": "code",
   "execution_count": 11,
   "metadata": {},
   "outputs": [
    {
     "data": {
      "text/plain": [
       "(0, [])"
      ]
     },
     "execution_count": 11,
     "metadata": {},
     "output_type": "execute_result"
    }
   ],
   "source": [
    "len(hyperparam_combination), hyperparam_combination"
   ]
  },
  {
   "cell_type": "code",
   "execution_count": 12,
   "metadata": {},
   "outputs": [],
   "source": [
    "# run_hyperparam(total_files_number = 4, TUNING_TYPE= \"MANUAL\",  TUNING_TYPE = TUNING_TYPE, hyperparam_combination = hyperparam_combination)"
   ]
  },
  {
   "cell_type": "code",
   "execution_count": 13,
   "metadata": {},
   "outputs": [
    {
     "name": "stdout",
     "output_type": "stream",
     "text": [
      "INFO:tensorflow:Reloading Tuner from Hyperparam_kt_SARSA/keras_tunning_epsilon/tuner0.json\n",
      "Trial id :18 | Score :303.45 --> {'discount': 0.92, 'learning_rate': 0.0023892089991202374, 'time_to_update': 200, 'dense_units': 493}\n",
      "Trial number :  50\n",
      "Moviepy - Building video ./SARSA_epsilon_video.mp4.\n",
      "Moviepy - Writing video ./SARSA_epsilon_video.mp4\n",
      "\n"
     ]
    },
    {
     "name": "stderr",
     "output_type": "stream",
     "text": [
      "                                                                \r"
     ]
    },
    {
     "name": "stdout",
     "output_type": "stream",
     "text": [
      "Moviepy - Done !\n",
      "Moviepy - video ready ./SARSA_epsilon_video.mp4\n",
      "Final mean reward ' epsilon ': 166.08\n",
      "INFO:tensorflow:Reloading Tuner from Hyperparam_kt_SARSA/keras_tunning_boltzman/tuner0.json\n",
      "Trial id :34 | Score :496.52 --> {'discount': 0.93, 'learning_rate': 0.0038001679575366872, 'time_to_update': 300, 'dense_units': 151}\n",
      "Trial number :  50\n",
      "WARNING:tensorflow:Detecting that an object or model or tf.train.Checkpoint is being deleted with unrestored values. See the following logs for the specific values in question. To silence these warnings, use `status.expect_partial()`. See https://www.tensorflow.org/api_docs/python/tf/train/Checkpoint#restorefor details about the status object returned by the restore function.\n",
      "WARNING:tensorflow:Value in checkpoint could not be found in the restored object: (root).optimizer.iter\n",
      "WARNING:tensorflow:Value in checkpoint could not be found in the restored object: (root).optimizer.beta_1\n",
      "WARNING:tensorflow:Value in checkpoint could not be found in the restored object: (root).optimizer.beta_2\n",
      "WARNING:tensorflow:Value in checkpoint could not be found in the restored object: (root).optimizer.decay\n",
      "WARNING:tensorflow:Value in checkpoint could not be found in the restored object: (root).optimizer.learning_rate\n",
      "Moviepy - Building video ./SARSA_boltzman_video.mp4.\n",
      "Moviepy - Writing video ./SARSA_boltzman_video.mp4\n",
      "\n"
     ]
    },
    {
     "name": "stderr",
     "output_type": "stream",
     "text": [
      "                                                              \r"
     ]
    },
    {
     "name": "stdout",
     "output_type": "stream",
     "text": [
      "Moviepy - Done !\n",
      "Moviepy - video ready ./SARSA_boltzman_video.mp4\n",
      "Final mean reward ' boltzman ': 200.0\n"
     ]
    }
   ],
   "source": [
    "val_env = gym.make(ENV , render_mode = \"rgb_array\")\n",
    "dir = r\"Hyperparam_kt_SARSA\"\n",
    "\n",
    "for exploration_tech in [\"epsilon\", \"boltzman\"]:\n",
    "\n",
    "    project_name = \"keras_tunning_\"+exploration_tech\n",
    "    tuner = kt.BayesianOptimization(\n",
    "            MyHyperModel( hyper_dir = dir+\"/\"+project_name,  writer = \"logs_hyper/SARSA_\"+exploration_tech+\"/\", exploration_tech =exploration_tech,\n",
    "                         sucess_criteria_epochs = SUCESS_CRITERIA_EPOCH, sucess_criteria_value = SUCESS_CRITERIA_VALUE,\n",
    "                  end_of_episode = EPISODES, batch = 32,  evaluation_epoch = 2000, \n",
    "                   training_steps = 1000000, \n",
    "                   time_to_update_min = 100, time_to_update_max = 800,\n",
    "                   lr_min = 0.000005, lr_max = 0.005,\n",
    "                   discount_min = 0.90, discount_max = 0.99,\n",
    "                   dense_min = 32, dense_max = 512,\n",
    "                   environment_name = ENV ),\n",
    "            objective= kt.Objective('total_train_reward', direction=\"max\"), \n",
    "            max_trials = 50,\n",
    "            # distribution_strategy=tf.distribute.MirroredStrategy(),\n",
    "            directory= dir,\n",
    "            project_name=project_name\n",
    "        )\n",
    "\n",
    "    for trials in tuner.oracle.get_best_trials(num_trials=1):\n",
    "        print(f\"Trial id :{trials.trial_id} | Score :{trials.score} -->\",trials.hyperparameters.values)\n",
    "        \n",
    "\n",
    "    env_model = tuner.get_best_models()[0]\n",
    "    final_rewards = final_evaluation(env_model,val_env,n_tries=200, exploration=exploration_tech,  video_name = \"./SARSA_\"+exploration_tech+\"_video.mp4\")\n",
    "    print(\"Final mean reward '\",exploration_tech,\"':\", np.mean(final_rewards))\n",
    "\n",
    "    "
   ]
  },
  {
   "cell_type": "code",
   "execution_count": null,
   "metadata": {},
   "outputs": [],
   "source": []
  }
 ],
 "metadata": {
  "accelerator": "GPU",
  "colab": {
   "collapsed_sections": [],
   "machine_shape": "hm",
   "name": "MountainCar_A3C_TF1.ipynb",
   "provenance": [
    {
     "file_id": "13V9JMDwUOkrM9DucPAwwgBQfllmy9kjl",
     "timestamp": 1578567519575
    },
    {
     "file_id": "1rnkjQiF2XrsLm9SMvOuTxe8vX_7hZozI",
     "timestamp": 1578558966437
    }
   ]
  },
  "kernelspec": {
   "display_name": "ai_dev",
   "language": "python",
   "name": "python3"
  },
  "language_info": {
   "codemirror_mode": {
    "name": "ipython",
    "version": 3
   },
   "file_extension": ".py",
   "mimetype": "text/x-python",
   "name": "python",
   "nbconvert_exporter": "python",
   "pygments_lexer": "ipython3",
   "version": "3.10.13"
  },
  "vscode": {
   "interpreter": {
    "hash": "e97097829de60fff0360ae9237ac6de2911bdcd7f22e62fb944aef663864db87"
   }
  }
 },
 "nbformat": 4,
 "nbformat_minor": 4
}
