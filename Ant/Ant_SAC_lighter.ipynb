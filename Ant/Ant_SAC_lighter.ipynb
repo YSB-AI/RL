{
 "cells": [
  {
   "attachments": {},
   "cell_type": "markdown",
   "metadata": {},
   "source": [
    "# Checking enviroment states and action sets"
   ]
  },
  {
   "cell_type": "code",
   "execution_count": 1,
   "metadata": {},
   "outputs": [
    {
     "name": "stderr",
     "output_type": "stream",
     "text": [
      "2024-01-31 14:45:30.401127: I tensorflow/core/platform/cpu_feature_guard.cc:193] This TensorFlow binary is optimized with oneAPI Deep Neural Network Library (oneDNN) to use the following CPU instructions in performance-critical operations:  AVX2 AVX_VNNI FMA\n",
      "To enable them in other operations, rebuild TensorFlow with the appropriate compiler flags.\n",
      "2024-01-31 14:45:30.453669: I tensorflow/core/util/util.cc:169] oneDNN custom operations are on. You may see slightly different numerical results due to floating-point round-off errors from different computation orders. To turn them off, set the environment variable `TF_ENABLE_ONEDNN_OPTS=0`.\n",
      "2024-01-31 14:45:30.469887: E tensorflow/stream_executor/cuda/cuda_blas.cc:2981] Unable to register cuBLAS factory: Attempting to register factory for plugin cuBLAS when one has already been registered\n",
      "2024-01-31 14:45:30.739701: W tensorflow/stream_executor/platform/default/dso_loader.cc:64] Could not load dynamic library 'libnvinfer.so.7'; dlerror: libnvinfer.so.7: cannot open shared object file: No such file or directory; LD_LIBRARY_PATH: /home/n/anaconda3/envs/RL_env/lib/python3.10/site-packages/cv2/../../lib64::/home/n/.mujoco/mujoco210/bin:/usr/lib/nvidia\n",
      "2024-01-31 14:45:30.739769: W tensorflow/stream_executor/platform/default/dso_loader.cc:64] Could not load dynamic library 'libnvinfer_plugin.so.7'; dlerror: libnvinfer_plugin.so.7: cannot open shared object file: No such file or directory; LD_LIBRARY_PATH: /home/n/anaconda3/envs/RL_env/lib/python3.10/site-packages/cv2/../../lib64::/home/n/.mujoco/mujoco210/bin:/usr/lib/nvidia\n",
      "2024-01-31 14:45:30.739772: W tensorflow/compiler/tf2tensorrt/utils/py_utils.cc:38] TF-TRT Warning: Cannot dlopen some TensorRT libraries. If you would like to use Nvidia GPU with TensorRT, please make sure the missing libraries mentioned above are installed properly.\n"
     ]
    },
    {
     "name": "stdout",
     "output_type": "stream",
     "text": [
      "Num devices available:  [PhysicalDevice(name='/physical_device:CPU:0', device_type='CPU'), PhysicalDevice(name='/physical_device:GPU:0', device_type='GPU')]\n"
     ]
    },
    {
     "name": "stderr",
     "output_type": "stream",
     "text": [
      "2024-01-31 14:45:31.482680: I tensorflow/stream_executor/cuda/cuda_gpu_executor.cc:980] successful NUMA node read from SysFS had negative value (-1), but there must be at least one NUMA node, so returning NUMA node zero\n",
      "2024-01-31 14:45:31.521594: I tensorflow/stream_executor/cuda/cuda_gpu_executor.cc:980] successful NUMA node read from SysFS had negative value (-1), but there must be at least one NUMA node, so returning NUMA node zero\n",
      "2024-01-31 14:45:31.521791: I tensorflow/stream_executor/cuda/cuda_gpu_executor.cc:980] successful NUMA node read from SysFS had negative value (-1), but there must be at least one NUMA node, so returning NUMA node zero\n"
     ]
    }
   ],
   "source": [
    "import sys\n",
    "import os.path\n",
    "sys.path.append(\"..\")\n",
    "from SAC_Agent_lighter import *\n",
    "from ENV_DETAILS import *\n",
    "import os"
   ]
  },
  {
   "cell_type": "code",
   "execution_count": 2,
   "metadata": {},
   "outputs": [
    {
     "name": "stdout",
     "output_type": "stream",
     "text": [
      "[name: \"/device:CPU:0\"\n",
      "device_type: \"CPU\"\n",
      "memory_limit: 268435456\n",
      "locality {\n",
      "}\n",
      "incarnation: 465837574687195066\n",
      "xla_global_id: -1\n",
      ", name: \"/device:GPU:0\"\n",
      "device_type: \"GPU\"\n",
      "memory_limit: 22126723072\n",
      "locality {\n",
      "  bus_id: 1\n",
      "  links {\n",
      "  }\n",
      "}\n",
      "incarnation: 14327526734389593950\n",
      "physical_device_desc: \"device: 0, name: NVIDIA GeForce RTX 3090, pci bus id: 0000:01:00.0, compute capability: 8.6\"\n",
      "xla_global_id: 416903419\n",
      "]\n"
     ]
    },
    {
     "name": "stderr",
     "output_type": "stream",
     "text": [
      "2024-01-31 14:45:31.526206: I tensorflow/core/platform/cpu_feature_guard.cc:193] This TensorFlow binary is optimized with oneAPI Deep Neural Network Library (oneDNN) to use the following CPU instructions in performance-critical operations:  AVX2 AVX_VNNI FMA\n",
      "To enable them in other operations, rebuild TensorFlow with the appropriate compiler flags.\n",
      "2024-01-31 14:45:31.528201: I tensorflow/stream_executor/cuda/cuda_gpu_executor.cc:980] successful NUMA node read from SysFS had negative value (-1), but there must be at least one NUMA node, so returning NUMA node zero\n",
      "2024-01-31 14:45:31.528361: I tensorflow/stream_executor/cuda/cuda_gpu_executor.cc:980] successful NUMA node read from SysFS had negative value (-1), but there must be at least one NUMA node, so returning NUMA node zero\n",
      "2024-01-31 14:45:31.528450: I tensorflow/stream_executor/cuda/cuda_gpu_executor.cc:980] successful NUMA node read from SysFS had negative value (-1), but there must be at least one NUMA node, so returning NUMA node zero\n",
      "2024-01-31 14:45:31.573459: I tensorflow/stream_executor/cuda/cuda_gpu_executor.cc:980] successful NUMA node read from SysFS had negative value (-1), but there must be at least one NUMA node, so returning NUMA node zero\n",
      "2024-01-31 14:45:31.573551: I tensorflow/stream_executor/cuda/cuda_gpu_executor.cc:980] successful NUMA node read from SysFS had negative value (-1), but there must be at least one NUMA node, so returning NUMA node zero\n",
      "2024-01-31 14:45:31.573599: I tensorflow/stream_executor/cuda/cuda_gpu_executor.cc:980] successful NUMA node read from SysFS had negative value (-1), but there must be at least one NUMA node, so returning NUMA node zero\n",
      "2024-01-31 14:45:31.573648: I tensorflow/core/common_runtime/gpu/gpu_device.cc:1616] Created device /device:GPU:0 with 21101 MB memory:  -> device: 0, name: NVIDIA GeForce RTX 3090, pci bus id: 0000:01:00.0, compute capability: 8.6\n"
     ]
    }
   ],
   "source": [
    "from tensorflow.python.client import device_lib\n",
    "print(device_lib.list_local_devices())"
   ]
  },
  {
   "cell_type": "code",
   "execution_count": 3,
   "metadata": {},
   "outputs": [],
   "source": [
    "if os.name == 'nt':\n",
    "    main_hyper_dir = \"D:\\\\Artificial_Intelligence\\\\Portfolio\\\\RL_updated\\\\BipedalWalker\\\\\" # Windows\n",
    "    conda_python_exec = 'C:\\\\Users\\\\yanie\\\\anaconda3\\\\envs\\\\ai_dev\\\\python.exe '# Windows\n",
    "    logs_dir = main_hyper_dir+'Hyperparam_tuning\\\\' # Windows\n",
    "else:\n",
    "    main_hyper_dir = \"/media/n/NewDisk/Artificial_Intelligence/Portfolio/RL_updated/BipedalWalker/\" # Linux\n",
    "    conda_python_exec = '/home/n/anaconda3/envs/ai_dev/bin/python '# Linux\n",
    "    logs_dir = main_hyper_dir+'Hyperparam_tuning_sac/' # Linux\n",
    "\n",
    "ENV = \"Ant-v2\"\n",
    "SUCESS_CRITERIA_VALUE = ENV_DETAILS[ENV][\"SUCESS_CRITERIA_VALUE\"]\n",
    "SUCESS_CRITERIA_EPOCH = ENV_DETAILS[ENV][\"SUCESS_CRITERIA_EPOCH\"]\n",
    "EPISODES = ENV_DETAILS[ENV][\"EPISODES\"]"
   ]
  },
  {
   "cell_type": "code",
   "execution_count": 4,
   "metadata": {},
   "outputs": [
    {
     "name": "stdout",
     "output_type": "stream",
     "text": [
      "\n"
     ]
    }
   ],
   "source": [
    "#LD_LIBRARY_PATH=/usr/local/cuda-12.1/lib64:/usr/local/cuda/lib64:/usr/local/cuda-12.1/lib64:/usr/local/cuda/lib64:/usr/local/cuda-12.1/lib64:/usr/local/cuda/lib64/:/home/n/.mujoco/mujoco210/bin\n",
    "! echo $LD_LIBRARY_PATHc"
   ]
  },
  {
   "cell_type": "code",
   "execution_count": 5,
   "metadata": {},
   "outputs": [
    {
     "data": {
      "text/plain": [
       "<TimeLimit<OrderEnforcing<AntEnv<Ant-v2>>>>"
      ]
     },
     "execution_count": 5,
     "metadata": {},
     "output_type": "execute_result"
    }
   ],
   "source": [
    "env = gym.make(ENV)\n",
    "env\n"
   ]
  },
  {
   "cell_type": "code",
   "execution_count": 6,
   "metadata": {},
   "outputs": [
    {
     "data": {
      "text/plain": [
       "1000"
      ]
     },
     "execution_count": 6,
     "metadata": {},
     "output_type": "execute_result"
    }
   ],
   "source": [
    "\n",
    "max_steps = env._max_episode_steps\n",
    "max_steps"
   ]
  },
  {
   "cell_type": "code",
   "execution_count": 7,
   "metadata": {},
   "outputs": [
    {
     "data": {
      "text/plain": [
       "array([-0.02788014,  0.91035177,  0.20967906, -0.0720419 , -0.32335887,\n",
       "        0.90686957,  0.60917188,  0.5674793 , -2.1603379 ,  0.42575909,\n",
       "       -0.01914482, -1.61755756,  1.11122851,  0.47161049,  1.03820389,\n",
       "        0.20490961,  0.58121653,  0.71221784, -0.07345233,  0.23685948,\n",
       "        0.13920604, -0.17878874, -1.12668479,  0.08698594, -0.2752055 ,\n",
       "        0.13237564,  1.75634035,  0.89875864, -0.07351353, -0.11734575,\n",
       "        1.51271693, -2.46635561,  2.33806386,  0.8046801 ,  1.32152021,\n",
       "        2.31560103,  0.8510059 ,  0.92317005, -1.07803514, -0.88115724,\n",
       "       -0.06281868,  0.00651866, -0.04483359,  0.88863015,  0.4291408 ,\n",
       "       -1.06639973,  0.21321705, -0.42909799,  1.00235032,  0.56356912,\n",
       "        0.52576125, -0.73119533, -0.33070524, -1.0418612 ,  1.95401574,\n",
       "       -0.74075554,  0.12844253,  0.1640146 , -1.99457588, -0.21482059,\n",
       "       -0.07546758,  0.31561921,  0.46196963, -1.15908133,  0.93523707,\n",
       "        1.47047761, -1.64464199,  0.39707663,  2.62483057, -1.81015931,\n",
       "        0.05227086, -1.41554982, -1.16437921, -1.8909315 ,  0.60831   ,\n",
       "       -1.60125666,  1.8746263 ,  1.28713965, -1.86971751,  1.15472505,\n",
       "       -0.79351165,  0.4761696 , -0.65183866, -0.29514129,  1.16985892,\n",
       "       -0.3640507 , -1.68008584, -0.07094992,  1.80307584, -0.64679148,\n",
       "        1.67064033,  0.26883943,  0.08588681, -0.97577827, -0.30186916,\n",
       "        0.63717234, -0.70460704,  2.03679245,  0.82496545, -1.37652966,\n",
       "       -1.20266772,  0.81885994, -0.28931676, -1.19937344,  0.00552048,\n",
       "        0.26041311, -0.47295703,  0.45820293, -1.66936575,  0.06761049,\n",
       "        0.19338899])"
      ]
     },
     "execution_count": 7,
     "metadata": {},
     "output_type": "execute_result"
    }
   ],
   "source": [
    "s = env.observation_space.sample()\n",
    "s"
   ]
  },
  {
   "cell_type": "code",
   "execution_count": 8,
   "metadata": {},
   "outputs": [
    {
     "data": {
      "text/plain": [
       "Box(-inf, inf, (111,), float64)"
      ]
     },
     "execution_count": 8,
     "metadata": {},
     "output_type": "execute_result"
    }
   ],
   "source": [
    "env.observation_space"
   ]
  },
  {
   "cell_type": "code",
   "execution_count": 9,
   "metadata": {},
   "outputs": [
    {
     "data": {
      "text/plain": [
       "(111,)"
      ]
     },
     "execution_count": 9,
     "metadata": {},
     "output_type": "execute_result"
    }
   ],
   "source": [
    "env.observation_space.shape"
   ]
  },
  {
   "cell_type": "code",
   "execution_count": 10,
   "metadata": {},
   "outputs": [
    {
     "data": {
      "text/plain": [
       "array([ 0.69543072,  0.99452999,  0.01277502,  0.07992402, -0.06602305,\n",
       "       -0.06009736, -0.07755146,  0.06102621, -0.06634228, -0.02153657,\n",
       "       -0.0644069 , -0.02782276,  0.00381734,  0.09533074, -0.03377354,\n",
       "        0.11534974, -0.03852704, -0.04068562, -0.07825016, -0.01942004,\n",
       "       -0.12935553, -0.12430277, -0.08887245,  0.00476441, -0.12312941,\n",
       "        0.07657353,  0.06161828,  0.        ,  0.        ,  0.        ,\n",
       "        0.        ,  0.        ,  0.        ,  0.        ,  0.        ,\n",
       "        0.        ,  0.        ,  0.        ,  0.        ,  0.        ,\n",
       "        0.        ,  0.        ,  0.        ,  0.        ,  0.        ,\n",
       "        0.        ,  0.        ,  0.        ,  0.        ,  0.        ,\n",
       "        0.        ,  0.        ,  0.        ,  0.        ,  0.        ,\n",
       "        0.        ,  0.        ,  0.        ,  0.        ,  0.        ,\n",
       "        0.        ,  0.        ,  0.        ,  0.        ,  0.        ,\n",
       "        0.        ,  0.        ,  0.        ,  0.        ,  0.        ,\n",
       "        0.        ,  0.        ,  0.        ,  0.        ,  0.        ,\n",
       "        0.        ,  0.        ,  0.        ,  0.        ,  0.        ,\n",
       "        0.        ,  0.        ,  0.        ,  0.        ,  0.        ,\n",
       "        0.        ,  0.        ,  0.        ,  0.        ,  0.        ,\n",
       "        0.        ,  0.        ,  0.        ,  0.        ,  0.        ,\n",
       "        0.        ,  0.        ,  0.        ,  0.        ,  0.        ,\n",
       "        0.        ,  0.        ,  0.        ,  0.        ,  0.        ,\n",
       "        0.        ,  0.        ,  0.        ,  0.        ,  0.        ,\n",
       "        0.        ])"
      ]
     },
     "execution_count": 10,
     "metadata": {},
     "output_type": "execute_result"
    }
   ],
   "source": [
    "s = env.reset()\n",
    "s"
   ]
  },
  {
   "cell_type": "code",
   "execution_count": 11,
   "metadata": {},
   "outputs": [
    {
     "data": {
      "text/plain": [
       "array([[ 0.69543072,  0.99452999,  0.01277502,  0.07992402, -0.06602305,\n",
       "        -0.06009736, -0.07755146,  0.06102621, -0.06634228, -0.02153657,\n",
       "        -0.0644069 , -0.02782276,  0.00381734,  0.09533074, -0.03377354,\n",
       "         0.11534974, -0.03852704, -0.04068562, -0.07825016, -0.01942004,\n",
       "        -0.12935553, -0.12430277, -0.08887245,  0.00476441, -0.12312941,\n",
       "         0.07657353,  0.06161828,  0.        ,  0.        ,  0.        ,\n",
       "         0.        ,  0.        ,  0.        ,  0.        ,  0.        ,\n",
       "         0.        ,  0.        ,  0.        ,  0.        ,  0.        ,\n",
       "         0.        ,  0.        ,  0.        ,  0.        ,  0.        ,\n",
       "         0.        ,  0.        ,  0.        ,  0.        ,  0.        ,\n",
       "         0.        ,  0.        ,  0.        ,  0.        ,  0.        ,\n",
       "         0.        ,  0.        ,  0.        ,  0.        ,  0.        ,\n",
       "         0.        ,  0.        ,  0.        ,  0.        ,  0.        ,\n",
       "         0.        ,  0.        ,  0.        ,  0.        ,  0.        ,\n",
       "         0.        ,  0.        ,  0.        ,  0.        ,  0.        ,\n",
       "         0.        ,  0.        ,  0.        ,  0.        ,  0.        ,\n",
       "         0.        ,  0.        ,  0.        ,  0.        ,  0.        ,\n",
       "         0.        ,  0.        ,  0.        ,  0.        ,  0.        ,\n",
       "         0.        ,  0.        ,  0.        ,  0.        ,  0.        ,\n",
       "         0.        ,  0.        ,  0.        ,  0.        ,  0.        ,\n",
       "         0.        ,  0.        ,  0.        ,  0.        ,  0.        ,\n",
       "         0.        ,  0.        ,  0.        ,  0.        ,  0.        ,\n",
       "         0.        ]])"
      ]
     },
     "execution_count": 11,
     "metadata": {},
     "output_type": "execute_result"
    }
   ],
   "source": [
    "s = np.array(s).reshape((1, env.observation_space.shape[0]))\n",
    "s"
   ]
  },
  {
   "cell_type": "code",
   "execution_count": 12,
   "metadata": {},
   "outputs": [
    {
     "data": {
      "text/plain": [
       "(array([-0.8328846 , -0.22468966, -0.27181223,  0.8705417 , -0.50300074,\n",
       "         0.83511746, -0.06442186,  0.99286246], dtype=float32),\n",
       " (8,),\n",
       " (1, 8))"
      ]
     },
     "execution_count": 12,
     "metadata": {},
     "output_type": "execute_result"
    }
   ],
   "source": [
    "a = env.action_space.sample()\n",
    "a, a.shape, a.reshape((1, len(a))).shape"
   ]
  },
  {
   "cell_type": "code",
   "execution_count": 13,
   "metadata": {},
   "outputs": [
    {
     "data": {
      "text/plain": [
       "(array([ 0.7211362 ,  0.99683716,  0.01859033,  0.06224911, -0.04577262,\n",
       "        -0.11159353,  0.47433447, -0.03702742, -0.39403557, -0.03448048,\n",
       "        -0.39023026, -0.17602663,  0.41031931,  0.28179652,  0.05261549,\n",
       "         0.23736318,  0.51159411, -1.44186014,  1.70063541, -2.01996703,\n",
       "        14.8392743 , -3.76309538, -4.98142221, -0.51754391, -4.6604206 ,\n",
       "        -5.96320881,  8.31417629,  0.        ,  0.        ,  0.        ,\n",
       "         0.        ,  0.        ,  0.        ,  0.        ,  0.        ,\n",
       "         0.        ,  0.        ,  0.        ,  0.        ,  0.        ,\n",
       "         0.        ,  0.        ,  0.        ,  0.        ,  0.        ,\n",
       "         0.        ,  0.        ,  0.        ,  0.        ,  0.        ,\n",
       "         0.        ,  0.        ,  0.        ,  0.        ,  0.        ,\n",
       "         0.        ,  0.        ,  0.        ,  0.        ,  0.        ,\n",
       "         0.        ,  0.        ,  0.        ,  0.        ,  0.        ,\n",
       "         0.        ,  0.        ,  0.        ,  0.        ,  0.        ,\n",
       "         0.        ,  0.        ,  0.        ,  0.        ,  0.        ,\n",
       "         0.        ,  0.        ,  0.        ,  0.        ,  0.        ,\n",
       "         0.        ,  0.        ,  0.        ,  0.        ,  0.        ,\n",
       "         0.        ,  0.        ,  0.        ,  0.        ,  0.        ,\n",
       "         0.        ,  0.        ,  0.        ,  0.        ,  0.        ,\n",
       "         0.        ,  0.        ,  0.        ,  0.        ,  0.        ,\n",
       "         0.        ,  0.        ,  0.        ,  0.        ,  0.        ,\n",
       "         0.        ,  0.        ,  0.        ,  0.        ,  0.        ,\n",
       "         0.        ]),\n",
       " -0.542103424817747,\n",
       " False,\n",
       " {'reward_forward': 0.2160285560782492,\n",
       "  'reward_ctrl': -1.758131980895996,\n",
       "  'reward_contact': -0.0,\n",
       "  'reward_survive': 1.0})"
      ]
     },
     "execution_count": 13,
     "metadata": {},
     "output_type": "execute_result"
    }
   ],
   "source": [
    "env.step(a)"
   ]
  },
  {
   "cell_type": "code",
   "execution_count": 14,
   "metadata": {},
   "outputs": [
    {
     "data": {
      "text/plain": [
       "array([ 0.48457184,  0.80026186,  0.35995427,  0.54075885, -0.11127175,\n",
       "        0.13630508, -0.32472062, -0.40596324], dtype=float32)"
      ]
     },
     "execution_count": 14,
     "metadata": {},
     "output_type": "execute_result"
    }
   ],
   "source": [
    "env.action_space.sample()"
   ]
  },
  {
   "attachments": {},
   "cell_type": "markdown",
   "metadata": {},
   "source": [
    "### Training/Hyperparam run"
   ]
  },
  {
   "cell_type": "code",
   "execution_count": 15,
   "metadata": {},
   "outputs": [
    {
     "name": "stderr",
     "output_type": "stream",
     "text": [
      "UsageError: Line magic function `%tensorboard` not found.\n"
     ]
    }
   ],
   "source": [
    "%tensorboard --logdir logs_general/hyper"
   ]
  },
  {
   "cell_type": "code",
   "execution_count": 16,
   "metadata": {},
   "outputs": [],
   "source": [
    "TUNING_TYPE = \"BAYES\"\n",
    "HYPERPARAM_TUNING = True\n",
    "writer= \"Training/fit_sac/\"\n"
   ]
  },
  {
   "cell_type": "code",
   "execution_count": 17,
   "metadata": {},
   "outputs": [
    {
     "name": "stdout",
     "output_type": "stream",
     "text": [
      "Trial number :  1\n",
      "\n",
      "Search: Running Trial #1\n",
      "\n",
      "Value             |Best Value So Far |Hyperparameter\n",
      "0.0023173         |0.0023173         |lr_actor\n",
      "0.0037699         |0.0037699         |lr_critic_1\n",
      "0.00096906        |0.00096906        |lr_alpha\n",
      "0.015557          |0.015557          |tau\n",
      "1                 |1                 |n_dense_layers_actor\n",
      "119               |119               |dense_units_act_0\n",
      "2                 |2                 |n_dense_layers_critic\n",
      "115               |115               |dense_units_crit_0\n",
      "\n",
      "Trial number :  1\n",
      "Epoch: 20000 | Memory size : 20001 | Reward eval/Train: -593.038146030264/-157.8569712513889 \n",
      "Epoch: 40000 | Memory size : 40001 | Reward eval/Train: -236.440021584432/-129.40047489931126 \n",
      "Epoch: 60000 | Memory size : 60001 | Reward eval/Train: -138.35078866790002/-90.02201592907589 \n",
      "Epoch: 80000 | Memory size : 80001 | Reward eval/Train: -115.29683282834806/-78.46619485591381 \n",
      "Epoch: 100000 | Memory size : 100000 | Reward eval/Train: -222.00176914074052/-140.8399327014138 \n",
      "Epoch: 120000 | Memory size : 100000 | Reward eval/Train: -252.22311587892102/-155.90535433549374 \n",
      "Epoch: 140000 | Memory size : 100000 | Reward eval/Train: -243.23374736816348/-159.88025775549153 \n"
     ]
    }
   ],
   "source": [
    "if HYPERPARAM_TUNING:\n",
    "\n",
    "    dir = r\"Hyperparam_kt_sac\"\n",
    "    project_name = \"keras_tunning_soft_lighter\"\n",
    "\n",
    "    tuner = kt.BayesianOptimization(\n",
    "            MyHyperModel( hyper_dir = dir+\"/\"+project_name,  writer = \"logs_hyper/sac_lighter/\",\n",
    "                        end_of_episode = EPISODES, evaluation_epoch = env._max_episode_steps, training_steps = 700000,\n",
    "                sucess_criteria_epochs = SUCESS_CRITERIA_EPOCH, sucess_criteria_value= SUCESS_CRITERIA_VALUE,\n",
    "                discount_min = 0.95, discount_max = 0.99,\n",
    "                lr_actor_min = 0.000001, lr_actor_max = 0.005,\n",
    "                lr_critic_1_min = 0.000001, lr_critic_1_max = 0.005,\n",
    "                dense_min = 32, dense_max = 256,\n",
    "                environment_name=ENV,\n",
    "                tau_min = 0.001, tau_max = 0.1,\n",
    "                reward_scaler = 1, num_layers_act = 2, num_layers_crit =2),\n",
    "            objective= kt.Objective('total_train_reward', direction=\"max\"), \n",
    "            max_trials = 30,\n",
    "            # distribution_strategy= strategy,\n",
    "            directory=dir,\n",
    "            project_name=project_name\n",
    "        )\n",
    "    tuner.search(x=[0], y=[1])\n",
    "else : \n",
    "    \n",
    "        print(\"Acquiring parameters ....\")\n",
    "        writer= \"Training/fit_sac_lighter/\"\n",
    "\n",
    "        training_steps = 1000000\n",
    "        learning_rate= 0.001\n",
    "        entropy_factor = 0.1\n",
    "        discount = 0.99\n",
    "        dense_units_actor = [128,64]\n",
    "        num_layers_actor = 2\n",
    "        dense_units_critic = [128,64]\n",
    "        num_layers_crit = 2\n",
    "        time_to_update= 100\n",
    "        end_of_episode = 300\n",
    "        tau = 0.01\n",
    "        \n",
    "        run_training(training_steps,  discount, dense_units_actor,  dense_units_critic, num_layers_actor, num_layers_crit, writer, end_of_episode,\n",
    "                      environment_name = ENV,reward_scaler = 10, return_agent = False,lr_actor= 0.001, lr_critic_1= 0.001, lr_alpha = 0.001, tau = 0.001)\n",
    "        "
   ]
  },
  {
   "cell_type": "code",
   "execution_count": null,
   "metadata": {},
   "outputs": [],
   "source": [
    "exploration_tech = \"soft\"\n",
    "hyperparam_combination=[]\n",
    "for trials in tuner.oracle.get_best_trials(num_trials=3):\n",
    "    print(f\"Trial id :{trials.trial_id} | Score :{trials.score} -->\",trials.hyperparameters.values)"
   ]
  },
  {
   "cell_type": "code",
   "execution_count": null,
   "metadata": {},
   "outputs": [],
   "source": [
    "\n",
    "val_env = gym.make(ENV)#, render_mode = \"rgb_array\"\n",
    "dir = r\"Hyperparam_kt_sac\"\n",
    "\n",
    "for trials in tuner.oracle.get_best_trials(num_trials=1):\n",
    "    print(f\"Trial id :{trials.trial_id} | Score :{trials.score} -->\",trials.hyperparameters.values)\n",
    "    \n",
    "env_model = tuner.get_best_models()[0]\n",
    "final_rewards = final_evaluation(env_model,val_env,n_tries=200, exploration=exploration_tech,  video_name = \"./sac_\"+exploration_tech+\"_video.mp4\")\n",
    "print(\"Final mean reward '\",exploration_tech,\"':\", np.mean(final_rewards))"
   ]
  },
  {
   "cell_type": "code",
   "execution_count": null,
   "metadata": {},
   "outputs": [],
   "source": [
    "best_hp = tuner.get_best_hyperparameters()[0]\n",
    "training_steps = 2000000\n",
    "discount  = 0.99#best_hp[\"discount\"]\n",
    "lr_actor  = best_hp[\"lr_actor\"]\n",
    "lr_critic_1  = best_hp[\"lr_critic_1\"]\n",
    "tau  = best_hp[\"tau\"]\n",
    "\n",
    "end_of_episode = EPISODES\n",
    "sucess_criteria_epochs = SUCESS_CRITERIA_EPOCH\n",
    "sucess_criteria_value = SUCESS_CRITERIA_VALUE\n",
    "save_factor=50000\n",
    "return_agent = True\n",
    "reward_scaler = 1\n",
    "environment_name=ENV\n",
    "\n",
    "n_dense_layers_actor = trials.hyperparameters.values[\"n_dense_layers_actor\"]\n",
    "dense_layers_actor = []\n",
    "for i in range(n_dense_layers_actor):\n",
    "    dense_layers_actor.append(trials.hyperparameters.values['dense_units_act_'+str(i)])\n",
    "\n",
    "n_dense_layers_critic = trials.hyperparameters.values[\"n_dense_layers_critic\"]\n",
    "dense_layers_critic = []\n",
    "for i in range(n_dense_layers_critic):\n",
    "    dense_layers_critic.append(trials.hyperparameters.values['dense_units_crit_'+str(i)])\n",
    "\n",
    "env_model = run_training(training_steps = training_steps,\n",
    "                         discount = discount,  \n",
    "                         dense_units_act = dense_layers_actor,  \n",
    "                         dense_units_crit = dense_layers_critic, \n",
    "                         num_layer_a = n_dense_layers_actor, \n",
    "                         num_layer_c = n_dense_layers_critic, \n",
    "                         writer = writer, \n",
    "                         end_of_episode = end_of_episode, \n",
    "                         save_factor = save_factor, \n",
    "                         sucess_criteria_epochs = sucess_criteria_epochs , \n",
    "                         sucess_criteria_value = sucess_criteria_value, \n",
    "                         environment_name = environment_name, \n",
    "                         reward_scaler = reward_scaler , \n",
    "                         return_agent = return_agent,\n",
    "                         lr_actor = lr_actor, \n",
    "                         lr_critic_1 = lr_critic_1, \n",
    "                         tau = tau )"
   ]
  },
  {
   "cell_type": "code",
   "execution_count": null,
   "metadata": {},
   "outputs": [],
   "source": [
    "final_rewards = final_evaluation(env_model,val_env,n_tries=200, exploration=exploration_tech,  video_name = \"./sac_lighter_\"+exploration_tech+\"_video.mp4\")\n"
   ]
  },
  {
   "cell_type": "code",
   "execution_count": null,
   "metadata": {},
   "outputs": [],
   "source": []
  }
 ],
 "metadata": {
  "accelerator": "GPU",
  "colab": {
   "collapsed_sections": [],
   "machine_shape": "hm",
   "name": "MountainCar_A3C_TF1.ipynb",
   "provenance": [
    {
     "file_id": "13V9JMDwUOkrM9DucPAwwgBQfllmy9kjl",
     "timestamp": 1578567519575
    },
    {
     "file_id": "1rnkjQiF2XrsLm9SMvOuTxe8vX_7hZozI",
     "timestamp": 1578558966437
    }
   ]
  },
  "kernelspec": {
   "display_name": "rl_dev",
   "language": "python",
   "name": "python3"
  },
  "language_info": {
   "codemirror_mode": {
    "name": "ipython",
    "version": 3
   },
   "file_extension": ".py",
   "mimetype": "text/x-python",
   "name": "python",
   "nbconvert_exporter": "python",
   "pygments_lexer": "ipython3",
   "version": "3.10.13"
  },
  "vscode": {
   "interpreter": {
    "hash": "7879325296583a7806f15309d0945146a04fe73b0286fa5dbd4cdc57d601416b"
   }
  }
 },
 "nbformat": 4,
 "nbformat_minor": 4
}
