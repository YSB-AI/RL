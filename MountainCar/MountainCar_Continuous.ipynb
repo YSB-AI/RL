{
 "cells": [
  {
   "attachments": {},
   "cell_type": "markdown",
   "metadata": {},
   "source": [
    "# Checking enviroment states and action sets"
   ]
  },
  {
   "cell_type": "code",
   "execution_count": 1,
   "metadata": {},
   "outputs": [
    {
     "name": "stderr",
     "output_type": "stream",
     "text": [
      "2023-12-03 10:30:33.542758: E external/local_xla/xla/stream_executor/cuda/cuda_dnn.cc:9261] Unable to register cuDNN factory: Attempting to register factory for plugin cuDNN when one has already been registered\n",
      "2023-12-03 10:30:33.542780: E external/local_xla/xla/stream_executor/cuda/cuda_fft.cc:607] Unable to register cuFFT factory: Attempting to register factory for plugin cuFFT when one has already been registered\n",
      "2023-12-03 10:30:33.543365: E external/local_xla/xla/stream_executor/cuda/cuda_blas.cc:1515] Unable to register cuBLAS factory: Attempting to register factory for plugin cuBLAS when one has already been registered\n"
     ]
    },
    {
     "name": "stdout",
     "output_type": "stream",
     "text": [
      "Num devices available:  [PhysicalDevice(name='/physical_device:CPU:0', device_type='CPU'), PhysicalDevice(name='/physical_device:GPU:0', device_type='GPU')]\n"
     ]
    }
   ],
   "source": [
    "import sys\n",
    "import os.path\n",
    "sys.path.append(\"..\")\n",
    "from A3C_Agent import *\n",
    "from ENV_DETAILS import *"
   ]
  },
  {
   "cell_type": "code",
   "execution_count": 5,
   "metadata": {},
   "outputs": [],
   "source": [
    "ENV = \"MountainCarContinuous-v0\"\n",
    "SUCESS_CRITERIA_VALUE = ENV_DETAILS[ENV][\"SUCESS_CRITERIA_VALUE\"]\n",
    "SUCESS_CRITERIA_EPOCH = ENV_DETAILS[ENV][\"SUCESS_CRITERIA_EPOCH\"]\n",
    "EPISODES = ENV_DETAILS[ENV][\"EPISODES\"]"
   ]
  },
  {
   "cell_type": "code",
   "execution_count": 6,
   "metadata": {},
   "outputs": [
    {
     "data": {
      "text/plain": [
       "<TimeLimit<OrderEnforcing<PendulumEnv<Pendulum-v1>>>>"
      ]
     },
     "execution_count": 6,
     "metadata": {},
     "output_type": "execute_result"
    }
   ],
   "source": [
    "\n",
    "env = gym.make(ENV)\n",
    "env\n"
   ]
  },
  {
   "cell_type": "code",
   "execution_count": 7,
   "metadata": {},
   "outputs": [
    {
     "data": {
      "text/plain": [
       "200"
      ]
     },
     "execution_count": 7,
     "metadata": {},
     "output_type": "execute_result"
    }
   ],
   "source": [
    "env._max_episode_steps"
   ]
  },
  {
   "cell_type": "code",
   "execution_count": 4,
   "metadata": {},
   "outputs": [
    {
     "data": {
      "text/plain": [
       "array([-0.03835609, -0.05998918], dtype=float32)"
      ]
     },
     "execution_count": 4,
     "metadata": {},
     "output_type": "execute_result"
    }
   ],
   "source": [
    "s = env.observation_space.sample()\n",
    "s"
   ]
  },
  {
   "cell_type": "code",
   "execution_count": 5,
   "metadata": {},
   "outputs": [
    {
     "data": {
      "text/plain": [
       "(Box([-1.2  -0.07], [0.6  0.07], (2,), float32), (2,))"
      ]
     },
     "execution_count": 5,
     "metadata": {},
     "output_type": "execute_result"
    }
   ],
   "source": [
    "env.observation_space, env.observation_space.shape"
   ]
  },
  {
   "cell_type": "code",
   "execution_count": 6,
   "metadata": {},
   "outputs": [
    {
     "data": {
      "text/plain": [
       "array([-0.5637154,  0.       ], dtype=float32)"
      ]
     },
     "execution_count": 6,
     "metadata": {},
     "output_type": "execute_result"
    }
   ],
   "source": [
    "s = env.reset()\n",
    "s[0]"
   ]
  },
  {
   "cell_type": "code",
   "execution_count": 7,
   "metadata": {},
   "outputs": [
    {
     "data": {
      "text/plain": [
       "(Box(-1.0, 1.0, (1,), float32),\n",
       " Box(-1.0, 1.0, (1,), float32),\n",
       " (array([-0.495756  , -0.00095793], dtype=float32),\n",
       "  -0.02448251243676083,\n",
       "  False,\n",
       "  False,\n",
       "  {}))"
      ]
     },
     "execution_count": 7,
     "metadata": {},
     "output_type": "execute_result"
    }
   ],
   "source": [
    "s = env.reset()[0]\n",
    "env.action_space, env.action_space, env.step(s)"
   ]
  },
  {
   "attachments": {},
   "cell_type": "markdown",
   "metadata": {},
   "source": [
    "# Advantage Asynch Actor-Critic \n",
    "\n",
    "This time we will implement the A3C not considering Actor and Critic as part of the same network"
   ]
  },
  {
   "attachments": {},
   "cell_type": "markdown",
   "metadata": {},
   "source": [
    "### Training/Hyperparam run"
   ]
  },
  {
   "cell_type": "code",
   "execution_count": 8,
   "metadata": {},
   "outputs": [
    {
     "name": "stderr",
     "output_type": "stream",
     "text": [
      "UsageError: Line magic function `%tensorboard` not found.\n"
     ]
    }
   ],
   "source": [
    "%tensorboard --logdir logs_general/hyper"
   ]
  },
  {
   "cell_type": "code",
   "execution_count": 9,
   "metadata": {},
   "outputs": [],
   "source": [
    "TUNING_TYPE = \"BAYES\"\n",
    "HYPERPARAM_TUNING = True\n",
    "writer= \"Training/fit_A3C/\"\n",
    "\n",
    "if TUNING_TYPE == \"MANUAL\":\n",
    "    params = {}\n",
    "    params[\"n_enviroment\"] =[20]\n",
    "    params[\"discount\"] =[0.96, 0.97]\n",
    "    params[\"end_of_episode\"] = [400]\n",
    "    params[\"learning_rate\"] = [0.001]\n",
    "    params[\"entropy_factor\"] = [ 0.01, 0.05]\n",
    "    params[\"epsilon\"] = [1]\n",
    "    params[\"boltzman_factor\"] = [1]\n",
    "    params[\"exploration_technique\"] = ['soft', 'epsilon']\n",
    "    params[\"training_steps\"] = [3000000]\n",
    "    params[\"dense_units\"] = [32, 128]\n",
    "    params[\"time_to_update\"] = [400]\n",
    "    params[\"use_LSTM\"] =[False]\n",
    "\n",
    "\n",
    "    hyperparam_combination = list(itertools.product(*list(params.values())))\n",
    "    \n",
    "\n",
    "    try:\n",
    "\n",
    "        files = [name for name in os.listdir(logs_dir) if os.path.isfile(os.path.join(logs_dir, name)) and name != \"logfile.txt\" and name != \"merged_results.json\"]\n",
    "        if len(files) >= 1: merge_JsonFiles(main_hyper_dir, logs_dir, files)\n",
    "\n",
    "        res_file = logs_dir+\"merged_results.json\"\n",
    "        def without_keys(d, keys):\n",
    "            return {x: d[x] for x in d if x not in keys}\n",
    "\n",
    "\n",
    "        if os.path.isfile(res_file):\n",
    "            with open(res_file, 'r') as f:\n",
    "                complete_file = json.load(f)\n",
    "\n",
    "            newlist = sorted(complete_file, key=lambda d: d['mean_rewards'], reverse=True) \n",
    "            params = []\n",
    "            for i, f in enumerate(newlist):\n",
    "                label = \"disc : \"+str(f['discount'])+\" | \"+\"lr : \"+str(f['learning_rate'])+\" | \"+\"entropy : \"+str(f['entropy_factor'])+\" | \"+\"update : \"+str(f['time_to_update'])\n",
    "                plt.figure(figsize=[35,4])\n",
    "                plt.plot(f['rewards'], label = label)\n",
    "                plt.legend()\n",
    "                max_mean_reward = f['mean_rewards']\n",
    "                params.append(f)\n",
    "                print(without_keys(f,\"rewards\"))\n",
    "                if i == 10:\n",
    "                    break\n",
    "            plt.title(\"Evaluation rewards\"); plt.grid()\n",
    "            plt.show()\n",
    "\n",
    "    except:\n",
    "        pass\n",
    "\n"
   ]
  },
  {
   "cell_type": "code",
   "execution_count": 10,
   "metadata": {},
   "outputs": [
    {
     "name": "stdout",
     "output_type": "stream",
     "text": [
      "INFO:tensorflow:Reloading Tuner from Hyperparam_kt_A3C/keras_tunning_soft_continuous/tuner0.json\n",
      "INFO:tensorflow:Oracle triggered exit\n"
     ]
    }
   ],
   "source": [
    "if HYPERPARAM_TUNING:\n",
    "\n",
    "    dir = r\"Hyperparam_kt_A3C\"\n",
    "    project_name = \"keras_tunning_soft_continuous\"\n",
    "\n",
    "    tuner = kt.BayesianOptimization(\n",
    "            MyHyperModel(hyper_dir = dir+\"/\"+project_name,  writer = \"logs_hyper_continuous/A3C_soft/\", \n",
    "                          end_of_episode = EPISODES, n_enviroment = 10, \n",
    "                  evaluation_epoch = 2000, training_steps = 300000,\n",
    "                  sucess_criteria_epochs = SUCESS_CRITERIA_EPOCH, sucess_criteria_value= SUCESS_CRITERIA_VALUE,\n",
    "                  discount_min = 0.8, discount_max = 0.99,\n",
    "                  entropy_min = 0.000001, entropy_max = 0.05,\n",
    "                  lr_min = 0.000001, lr_max = 0.005,\n",
    "                  dense_min = 32, dense_max = 500,\n",
    "                  lstm_min = 32, lstm_max = 256,\n",
    "                  time_to_update_min = 100, time_to_update_max=600,\n",
    "                  environment_name=ENV,\n",
    "                  continuous_actions_space= True,\n",
    "                  reward_scaler = 1,\n",
    "                  n_dense_layers = 4,\n",
    "                  use_LSTM=False\n",
    "                  ),\n",
    "            objective= kt.Objective('total_train_reward', direction=\"max\"), \n",
    "            max_trials = 30,\n",
    "            # distribution_strategy= strategy,\n",
    "            directory=dir,\n",
    "            project_name=project_name\n",
    "        )\n",
    "    tuner.search(x=[0], y=[1])\n",
    "    \n",
    "   \n",
    "else : \n",
    "    \n",
    "        print(\"Acquiring parameters ....\")\n",
    "        writer= \"Training/fit_A3C/\"\n",
    "\n",
    "        n_enviroment = 10\n",
    "        training_steps = 1000000\n",
    "        learning_rate= 0.001\n",
    "        entropy_factor = 0.1\n",
    "        discount = 0.99\n",
    "        dense_units = 512\n",
    "        lstm_units = 128\n",
    "        time_to_update= 100\n",
    "        end_of_episode = 300\n",
    "        use_LSTM = False\n",
    "\n",
    "        \n",
    "        run_training(training_steps, learning_rate, entropy_factor, \"\", discount, -1, dense_units, lstm_units, n_enviroment, writer, use_LSTM, end_of_episode,\n",
    "                      environment_name = ENV,continuous_space_actions = True, sigma_noise = 1e-5, reward_scaler = 1)\n",
    "        \n",
    "        \n",
    "            "
   ]
  },
  {
   "cell_type": "code",
   "execution_count": 11,
   "metadata": {},
   "outputs": [
    {
     "name": "stdout",
     "output_type": "stream",
     "text": [
      "Trial id :28 | Score :84.28267448105629 --> {'discount': 0.99, 'entropy_factor': 1e-05, 'learning_rate': 0.005, 'n_dense_layers': 1, 'dense_units_0': 364, 'dense_units_1': 500, 'dense_units_2': 32, 'dense_units_3': 500}\n",
      "Trial id :27 | Score :-0.005297040558535487 --> {'discount': 0.99, 'entropy_factor': 1e-05, 'learning_rate': 0.0006738217144122209, 'n_dense_layers': 1, 'dense_units_0': 208, 'dense_units_1': 183, 'dense_units_2': 32, 'dense_units_3': 319}\n",
      "Trial id :24 | Score :-0.005396947087733275 --> {'discount': 0.97, 'entropy_factor': 1e-05, 'learning_rate': 1e-05, 'n_dense_layers': 3, 'dense_units_0': 305, 'dense_units_1': 158, 'dense_units_2': 369, 'dense_units_3': 258}\n"
     ]
    }
   ],
   "source": [
    "\n",
    "exploration_tech = \"soft\"\n",
    "hyperparam_combination=[]\n",
    "for trials in tuner.oracle.get_best_trials(num_trials=3):\n",
    "    print(f\"Trial id :{trials.trial_id} | Score :{trials.score} -->\",trials.hyperparameters.values)\n",
    "\n",
    "    n_env = 30\n",
    "    end_ep = 1000\n",
    "    ep = 1\n",
    "    bolt_fact = 1\n",
    "    train_steps = 5000000\n",
    "    disc = trials.hyperparameters.values[\"discount\"]\n",
    "    lr = trials.hyperparameters.values[\"learning_rate\"]\n",
    "    entropy_fact = trials.hyperparameters.values[\"entropy_factor\"]\n",
    "    n_hidden_layer_hp = trials.hyperparameters.values[\"n_dense_layers\"]\n",
    "\n",
    "    d = []\n",
    "    for i in range(n_hidden_layer_hp):\n",
    "        d.append(trials.hyperparameters.values['dense_units_'+str(i)])\n",
    "    ulstm = False\n",
    "\n",
    "    # hyperparam_combination.append((n_env, disc, end_ep, lr, entropy_fact, ep, bolt_fact, exploration_tech, train_steps, d, time_to_update, ulstm))"
   ]
  },
  {
   "cell_type": "code",
   "execution_count": 12,
   "metadata": {},
   "outputs": [
    {
     "data": {
      "text/plain": [
       "(0, [])"
      ]
     },
     "execution_count": 12,
     "metadata": {},
     "output_type": "execute_result"
    }
   ],
   "source": [
    "len(hyperparam_combination), hyperparam_combination"
   ]
  },
  {
   "cell_type": "code",
   "execution_count": 13,
   "metadata": {},
   "outputs": [],
   "source": [
    "# run_hyperparam(TUNING_TYPE= \"MANUAL\", TUNING_TYPE = TUNING_TYPE, hyperparam_combination = hyperparam_combination,  total_files = 4)"
   ]
  },
  {
   "cell_type": "code",
   "execution_count": 14,
   "metadata": {},
   "outputs": [
    {
     "name": "stdout",
     "output_type": "stream",
     "text": [
      "Trial id :28 | Score :84.28267448105629 --> {'discount': 0.99, 'entropy_factor': 1e-05, 'learning_rate': 0.005, 'n_dense_layers': 1, 'dense_units_0': 364, 'dense_units_1': 500, 'dense_units_2': 32, 'dense_units_3': 500}\n",
      "Trial number :  30\n",
      "Moviepy - Building video ./A3C_continuous_soft_video.mp4.\n",
      "Moviepy - Writing video ./A3C_continuous_soft_video.mp4\n",
      "\n"
     ]
    },
    {
     "name": "stderr",
     "output_type": "stream",
     "text": [
      "                                                    "
     ]
    },
    {
     "name": "stdout",
     "output_type": "stream",
     "text": [
      "Moviepy - Done !\n",
      "Moviepy - video ready ./A3C_continuous_soft_video.mp4\n"
     ]
    },
    {
     "name": "stderr",
     "output_type": "stream",
     "text": [
      "\r"
     ]
    }
   ],
   "source": [
    "\n",
    "val_env = gym.make(ENV, render_mode = \"rgb_array\")\n",
    "dir = r\"Hyperparam_kt_A3C\"\n",
    "\n",
    "exploration_tech =\"soft\"\n",
    "\n",
    "for trials in tuner.oracle.get_best_trials(num_trials=1):\n",
    "    print(f\"Trial id :{trials.trial_id} | Score :{trials.score} -->\",trials.hyperparameters.values)\n",
    "    \n",
    "\n",
    "    env_model = tuner.get_best_models()[0]\n",
    "    n_enviroment = 30\n",
    "    end_ep = 1000\n",
    "    ep = 1\n",
    "    bolt_fact = 1\n",
    "    training_steps = 2000000\n",
    "    discount = trials.hyperparameters.values[\"discount\"]\n",
    "    learning_rate = trials.hyperparameters.values[\"learning_rate\"]\n",
    "    entropy_factor = trials.hyperparameters.values[\"entropy_factor\"]\n",
    "    n_hidden_layer_hp = trials.hyperparameters.values[\"n_dense_layers\"]\n",
    "\n",
    "    dense_units = []\n",
    "    for i in range(n_hidden_layer_hp):\n",
    "        dense_units.append(trials.hyperparameters.values['dense_units_'+str(i)])\n",
    "    sigma_noise = 1e-5\n",
    "    time_to_update= 100\n",
    "    lstm_units= 32\n",
    "    use_LSTM=False\n",
    "    end_of_episode = EPISODES\n",
    "    save_factor=50000\n",
    "    sucess_criteria_epochs = SUCESS_CRITERIA_EPOCH\n",
    "    sucess_criteria_value = SUCESS_CRITERIA_VALUE\n",
    "    environment_name = ENV\n",
    "    reward_scaler = 16\n",
    "    continuous_space_actions = True\n",
    "    return_agent = True\n",
    "\n",
    "# env_model = run_training(training_steps, learning_rate, entropy_factor, exploration_tech, discount, time_to_update, dense_units, lstm_units, \n",
    "#                  n_enviroment, writer, use_LSTM, end_of_episode, save_factor, sucess_criteria_epochs , sucess_criteria_value , \n",
    "#                  environment_name, reward_scaler, continuous_space_actions, sigma_noise, return_agent)\n",
    "\n",
    "# env_model = ContinuousA3CAgent_Optimization(\n",
    "#             lr = learning_rate, \n",
    "#             entropy_factor = entropy_factor,\n",
    "#             discount = discount, \n",
    "#             dense_units= dense_units, \n",
    "#             lstm_units = lstm_units,\n",
    "#             n_enviroment = n_enviroment,\n",
    "#             writer = writer,\n",
    "#             trial_n = get_valid_trials_number(writer),\n",
    "#             use_LSTM=use_LSTM,\n",
    "#             end_of_episode = end_of_episode,\n",
    "#             environment_name = environment_name,\n",
    "#             sigma_noise= sigma_noise,\n",
    "#             reward_scaler = reward_scaler,\n",
    "#             use_GAE = False\n",
    "#         )\n",
    "# env_model.load_weights('./checkpoints/A2Cagent')\n",
    "final_rewards = final_evaluation(env_model,val_env,n_tries=200, exploration=exploration_tech,  video_name = \"./A3C_continuous_\"+exploration_tech+\"_video.mp4\", continuous_action_space = continuous_space_actions)\n",
    "print(\"Final mean reward '\",exploration_tech,\"':\", np.mean(final_rewards))\n",
    "\n"
   ]
  },
  {
   "cell_type": "code",
   "execution_count": null,
   "metadata": {},
   "outputs": [],
   "source": []
  },
  {
   "cell_type": "code",
   "execution_count": null,
   "metadata": {},
   "outputs": [],
   "source": []
  }
 ],
 "metadata": {
  "accelerator": "GPU",
  "colab": {
   "collapsed_sections": [],
   "machine_shape": "hm",
   "name": "MountainCar_A3C_TF1.ipynb",
   "provenance": [
    {
     "file_id": "13V9JMDwUOkrM9DucPAwwgBQfllmy9kjl",
     "timestamp": 1578567519575
    },
    {
     "file_id": "1rnkjQiF2XrsLm9SMvOuTxe8vX_7hZozI",
     "timestamp": 1578558966437
    }
   ]
  },
  "kernelspec": {
   "display_name": "rl_dev",
   "language": "python",
   "name": "python3"
  },
  "language_info": {
   "codemirror_mode": {
    "name": "ipython",
    "version": 3
   },
   "file_extension": ".py",
   "mimetype": "text/x-python",
   "name": "python",
   "nbconvert_exporter": "python",
   "pygments_lexer": "ipython3",
   "version": "3.11.5"
  },
  "vscode": {
   "interpreter": {
    "hash": "7879325296583a7806f15309d0945146a04fe73b0286fa5dbd4cdc57d601416b"
   }
  }
 },
 "nbformat": 4,
 "nbformat_minor": 4
}
