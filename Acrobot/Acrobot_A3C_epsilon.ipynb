{
 "cells": [
  {
   "attachments": {},
   "cell_type": "markdown",
   "metadata": {},
   "source": [
    "# Checking enviroment states and action sets"
   ]
  },
  {
   "cell_type": "code",
   "execution_count": 1,
   "metadata": {},
   "outputs": [
    {
     "name": "stderr",
     "output_type": "stream",
     "text": [
      "2023-03-27 07:28:42.794412: E tensorflow/stream_executor/cuda/cuda_blas.cc:2981] Unable to register cuBLAS factory: Attempting to register factory for plugin cuBLAS when one has already been registered\n"
     ]
    },
    {
     "name": "stdout",
     "output_type": "stream",
     "text": [
      "Num devices available:  [PhysicalDevice(name='/physical_device:CPU:0', device_type='CPU'), PhysicalDevice(name='/physical_device:GPU:0', device_type='GPU')]\n"
     ]
    }
   ],
   "source": [
    "import sys\n",
    "import os.path\n",
    "sys.path.append(\"..\")\n",
    "from A3C_Agent import *\n",
    "from ENV_DETAILS import *"
   ]
  },
  {
   "cell_type": "code",
   "execution_count": 2,
   "metadata": {},
   "outputs": [],
   "source": [
    "if os.name == 'nt':\n",
    "    main_hyper_dir = \"D:\\\\Artificial_Intelligence\\\\Portfolio\\\\RL_updated\\\\Acrobot\\\\\" # Windows\n",
    "    conda_python_exec = 'C:\\\\Users\\\\yanie\\\\anaconda3\\\\envs\\\\ai_dev\\\\python.exe '# Windows\n",
    "    logs_dir = main_hyper_dir+'Hyperparam_tuning\\\\' # Windows\n",
    "else:\n",
    "    main_hyper_dir = \"/media/n/NewDisk/Artificial_Intelligence/Portfolio/RL_updated/Acrobot/\" # Linux\n",
    "    conda_python_exec = '/home/n/anaconda3/envs/ai_dev/bin/python '# Linux\n",
    "    logs_dir = main_hyper_dir+'Hyperparam_tuning_ddqn/' # Linux\n",
    "    \n",
    "ENV = \"Acrobot-v1\"\n",
    "SUCESS_CRITERIA_VALUE = ENV_DETAILS[ENV][\"SUCESS_CRITERIA_VALUE\"]\n",
    "SUCESS_CRITERIA_EPOCH = ENV_DETAILS[ENV][\"SUCESS_CRITERIA_EPOCH\"]\n",
    "EPISODES = ENV_DETAILS[ENV][\"EPISODES\"]"
   ]
  },
  {
   "cell_type": "code",
   "execution_count": 3,
   "metadata": {},
   "outputs": [
    {
     "data": {
      "text/plain": [
       "<TimeLimit<OrderEnforcing<PassiveEnvChecker<AcrobotEnv<Acrobot-v1>>>>>"
      ]
     },
     "execution_count": 3,
     "metadata": {},
     "output_type": "execute_result"
    }
   ],
   "source": [
    "env = gym.make(ENV)\n",
    "env\n"
   ]
  },
  {
   "cell_type": "code",
   "execution_count": 4,
   "metadata": {},
   "outputs": [
    {
     "data": {
      "text/plain": [
       "array([-0.4478103 ,  0.47762913, -0.71407163,  0.31023517, -5.7438183 ,\n",
       "       -0.6126871 ], dtype=float32)"
      ]
     },
     "execution_count": 4,
     "metadata": {},
     "output_type": "execute_result"
    }
   ],
   "source": [
    "s = env.observation_space.sample()\n",
    "s"
   ]
  },
  {
   "cell_type": "code",
   "execution_count": 5,
   "metadata": {},
   "outputs": [
    {
     "data": {
      "text/plain": [
       "(Box([ -1.        -1.        -1.        -1.       -12.566371 -28.274334], [ 1.        1.        1.        1.       12.566371 28.274334], (6,), float32),\n",
       " (6,))"
      ]
     },
     "execution_count": 5,
     "metadata": {},
     "output_type": "execute_result"
    }
   ],
   "source": [
    "env.observation_space, env.observation_space.shape"
   ]
  },
  {
   "cell_type": "code",
   "execution_count": 6,
   "metadata": {},
   "outputs": [
    {
     "data": {
      "text/plain": [
       "array([ 0.99987465,  0.01583464,  0.9978077 ,  0.06617995,  0.07605308,\n",
       "       -0.06448282], dtype=float32)"
      ]
     },
     "execution_count": 6,
     "metadata": {},
     "output_type": "execute_result"
    }
   ],
   "source": [
    "s = env.reset()\n",
    "s[0]"
   ]
  },
  {
   "cell_type": "code",
   "execution_count": 7,
   "metadata": {},
   "outputs": [
    {
     "data": {
      "text/plain": [
       "(3,\n",
       " Discrete(3),\n",
       " (array([ 0.99975115,  0.02230693,  0.99958044, -0.02896429, -0.11709644,\n",
       "          0.07268327], dtype=float32),\n",
       "  -1.0,\n",
       "  False,\n",
       "  False,\n",
       "  {}))"
      ]
     },
     "execution_count": 7,
     "metadata": {},
     "output_type": "execute_result"
    }
   ],
   "source": [
    "s = env.reset()[0]\n",
    "env.action_space.n, env.action_space, env.step(1)"
   ]
  },
  {
   "attachments": {},
   "cell_type": "markdown",
   "metadata": {},
   "source": [
    "# Advantage Asynch Actor-Critic \n",
    "\n",
    "This time we will implement the A3C not considering Actor and Critic as part of the same network"
   ]
  },
  {
   "attachments": {},
   "cell_type": "markdown",
   "metadata": {},
   "source": [
    "### Training/Hyperparam run"
   ]
  },
  {
   "cell_type": "code",
   "execution_count": 8,
   "metadata": {},
   "outputs": [
    {
     "name": "stderr",
     "output_type": "stream",
     "text": [
      "UsageError: Line magic function `%tensorboard` not found.\n"
     ]
    }
   ],
   "source": [
    "%tensorboard --logdir logs_general/hyper"
   ]
  },
  {
   "cell_type": "code",
   "execution_count": 9,
   "metadata": {},
   "outputs": [],
   "source": [
    "TUNING_TYPE = \"BAYES\"\n",
    "HYPERPARAM_TUNING = True\n",
    "writer= \"Training/fit_A3C/\"\n",
    "\n",
    "if TUNING_TYPE == \"MANUAL\":\n",
    "    params = {}\n",
    "    params[\"n_enviroment\"] =[20]\n",
    "    params[\"discount\"] =[0.96, 0.97]\n",
    "    params[\"end_of_episode\"] = [400]\n",
    "    params[\"learning_rate\"] = [0.001]\n",
    "    params[\"entropy_factor\"] = [ 0.01, 0.05]\n",
    "    params[\"epsilon\"] = [1]\n",
    "    params[\"boltzman_factor\"] = [1]\n",
    "    params[\"exploration_technique\"] = ['soft', 'epsilon']\n",
    "    params[\"training_steps\"] = [3000000]\n",
    "    params[\"dense_units\"] = [32, 128]\n",
    "    params[\"time_to_update\"] = [400]\n",
    "    params[\"use_LSTM\"] =[False]\n",
    "\n",
    "\n",
    "    hyperparam_combination = list(itertools.product(*list(params.values())))\n",
    "    \n",
    "\n",
    "    try:\n",
    "\n",
    "        files = [name for name in os.listdir(logs_dir) if os.path.isfile(os.path.join(logs_dir, name)) and name != \"logfile.txt\" and name != \"merged_results.json\"]\n",
    "        if len(files) >= 1: merge_JsonFiles(main_hyper_dir, logs_dir, files)\n",
    "\n",
    "        res_file = logs_dir+\"merged_results.json\"\n",
    "        def without_keys(d, keys):\n",
    "            return {x: d[x] for x in d if x not in keys}\n",
    "\n",
    "\n",
    "        if os.path.isfile(res_file):\n",
    "            with open(res_file, 'r') as f:\n",
    "                complete_file = json.load(f)\n",
    "\n",
    "            newlist = sorted(complete_file, key=lambda d: d['mean_rewards'], reverse=True) \n",
    "            params = []\n",
    "            for i, f in enumerate(newlist):\n",
    "                label = \"disc : \"+str(f['discount'])+\" | \"+\"lr : \"+str(f['learning_rate'])+\" | \"+\"entropy : \"+str(f['entropy_factor'])+\" | \"+\"update : \"+str(f['time_to_update'])\n",
    "                plt.figure(figsize=[35,4])\n",
    "                plt.plot(f['rewards'], label = label)\n",
    "                plt.legend()\n",
    "                max_mean_reward = f['mean_rewards']\n",
    "                params.append(f)\n",
    "                print(without_keys(f,\"rewards\"))\n",
    "                if i == 10:\n",
    "                    break\n",
    "            plt.title(\"Evaluation rewards\"); plt.grid();\n",
    "            plt.show()\n",
    "\n",
    "    except:\n",
    "        pass\n",
    "\n"
   ]
  },
  {
   "cell_type": "code",
   "execution_count": 10,
   "metadata": {},
   "outputs": [
    {
     "name": "stdout",
     "output_type": "stream",
     "text": [
      "Trial 40 Complete [00h 35m 14s]\n",
      "total_train_reward: -84.87\n",
      "\n",
      "Best total_train_reward So Far: -78.25\n",
      "Total elapsed time: 08h 28m 10s\n",
      "INFO:tensorflow:Oracle triggered exit\n"
     ]
    }
   ],
   "source": [
    "if HYPERPARAM_TUNING:\n",
    "\n",
    "    dir = r\"Hyperparam_kt_A3C\"\n",
    "    project_name = \"keras_tunning_epsilon\"\n",
    "\n",
    "    tuner = kt.BayesianOptimization(\n",
    "            MyHyperModel(hyper_dir = dir+\"/\"+project_name,  writer = \"logs_hyper/A3C_epsilon/\", \n",
    "                          end_of_episode = EPISODES, n_enviroment = 5, \n",
    "                  evaluation_epoch = 2000, training_steps = 600000,\n",
    "                  sucess_criteria_epochs = SUCESS_CRITERIA_EPOCH, sucess_criteria_value= SUCESS_CRITERIA_VALUE,\n",
    "                  discount_min = 0.90, discount_max = 0.99,\n",
    "                  entropy_min = 0.0001, entropy_max = 0.05,\n",
    "                  lr_min = 0.00001, lr_max = 0.005,\n",
    "                  dense_min = 32, dense_max = 500,\n",
    "                  lstm_min = 32, lstm_max = 128,\n",
    "                  time_to_update_min = 100, time_to_update_max=600,\n",
    "                  environment_name=ENV, exploration_tech = \"epsilon\"),\n",
    "            objective= kt.Objective('total_train_reward', direction=\"max\"), \n",
    "            max_trials = 40,\n",
    "            # distribution_strategy= strategy,\n",
    "            directory=dir,\n",
    "            project_name=project_name\n",
    "        )\n",
    "    tuner.search(x=[0], y=[1])\n",
    "    \n",
    "\n",
    "    # project_name = \"keras_tunning_boltzman\"\n",
    "    # tuner = kt.BayesianOptimization(\n",
    "    #         MyHyperModel(hyper_dir = dir+\"/\"+project_name,  writer = \"logs_hyper/A3C_boltzman/\", exploration_tech = \"boltzman\"),\n",
    "    #         objective= kt.Objective('total_train_reward', direction=\"max\"), \n",
    "    #         max_trials = 50,\n",
    "    #         # distribution_strategy= strategy,\n",
    "    #         directory=dir,\n",
    "    #         project_name=project_name\n",
    "    #     )\n",
    "    # tuner.search(x=[0], y=[1])\n",
    "\n",
    "    # dir = r\"Hyperparam_kt_A3C_LSTM\"\n",
    "    # project_name = \"keras_tunning_soft\"\n",
    "    # tuner_lstm = kt.BayesianOptimization(\n",
    "    #         MyHyperModel(hyper_dir = dir+\"/\"+project_name, writer = \"logs_A3C_LSTM/A3C_soft/\" ,use_LSTM = True),\n",
    "    #         objective= kt.Objective('total_train_reward', direction=\"max\"), \n",
    "    #         max_trials = 40,\n",
    "    #         # distribution_strategy= strategy,\n",
    "    #         directory=dir,\n",
    "    #         project_name='keras_tunning'\n",
    "    #     )\n",
    "    # tuner_lstm.search(x=[0], y=[1])\n",
    "\n",
    "    # project_name = \"keras_tunning_epsilon\"\n",
    "    # tuner_lstm = kt.BayesianOptimization(\n",
    "    #         MyHyperModel(hyper_dir = dir+\"/\"+project_name, writer = \"logs_A3C_LSTM/A3C_epsilon/\" ,use_LSTM = True, exploration_tech = \"epsilon\"),\n",
    "    #         objective= kt.Objective('total_train_reward', direction=\"max\"), \n",
    "    #         max_trials = 40,\n",
    "    #         # distribution_strategy= strategy,\n",
    "    #         directory=dir,\n",
    "    #         project_name='keras_tunning'\n",
    "    #     )\n",
    "    # tuner_lstm.search(x=[0], y=[1])\n",
    "\n",
    "    # project_name = \"keras_tunning_boltzman\"\n",
    "    # tuner_lstm = kt.BayesianOptimization(\n",
    "    #         MyHyperModel(hyper_dir = dir+\"/\"+project_name, writer = \"logs_A3C_LSTM/A3C_boltzman/\" ,use_LSTM = True, exploration_tech = \"boltzman\"),\n",
    "    #         objective= kt.Objective('total_train_reward', direction=\"max\"), \n",
    "    #         max_trials = 40,\n",
    "    #         # distribution_strategy= strategy,\n",
    "    #         directory=dir,\n",
    "    #         project_name='keras_tunning'\n",
    "    #     )\n",
    "    # tuner_lstm.search(x=[0], y=[1])\n",
    "   \n",
    "else : \n",
    "    \n",
    "    for exploration_tech in ['boltzman', 'epsilon']:\n",
    "        print(\"Acquiring parameters ....\")\n",
    "        writer= \"Training/fit_A3C/\"\n",
    "\n",
    "        n_enviroment = 10\n",
    "        training_steps = 1000000\n",
    "        learning_rate= 0.001\n",
    "        entropy_factor = 0.1\n",
    "        discount = 0.99\n",
    "        dense_units = 512\n",
    "        lstm_units = 128\n",
    "        time_to_update= 100\n",
    "        end_of_episode = 300\n",
    "        use_LSTM = False\n",
    "\n",
    "        \n",
    "        run_training(training_steps, learning_rate, entropy_factor, exploration_tech, discount, time_to_update, dense_units, lstm_units, n_enviroment, writer, use_LSTM, end_of_episode, environment_name = ENV)\n",
    "            "
   ]
  },
  {
   "cell_type": "code",
   "execution_count": 11,
   "metadata": {},
   "outputs": [
    {
     "name": "stdout",
     "output_type": "stream",
     "text": [
      "Trial id :35 | Score :-78.25 --> {'discount': 0.99, 'entropy_factor': 0.025180111322948846, 'learning_rate': 0.0017021824414113465, 'dense_units': 404, 'time_to_update': 400}\n",
      "Trial id :30 | Score :-80.62 --> {'discount': 0.99, 'entropy_factor': 0.027691164090841634, 'learning_rate': 0.00039763984678024817, 'dense_units': 195, 'time_to_update': 300}\n",
      "Trial id :15 | Score :-81.05 --> {'discount': 0.99, 'entropy_factor': 0.04190543594140047, 'learning_rate': 0.00016902697216703033, 'dense_units': 111, 'time_to_update': 400}\n"
     ]
    }
   ],
   "source": [
    "exploration_tech = \"epsilon\"\n",
    "\n",
    "hyperparam_combination=[]\n",
    "for trials in tuner.oracle.get_best_trials(num_trials=3):\n",
    "    print(f\"Trial id :{trials.trial_id} | Score :{trials.score} -->\",trials.hyperparameters.values)\n",
    "\n",
    "    n_env = 30\n",
    "    end_ep = 1000\n",
    "    ep = 1\n",
    "    bolt_fact = 1\n",
    "    train_steps = 5000000\n",
    "    disc = trials.hyperparameters.values[\"discount\"]\n",
    "    lr = trials.hyperparameters.values[\"learning_rate\"]\n",
    "    entropy_fact = trials.hyperparameters.values[\"entropy_factor\"]\n",
    "    d = trials.hyperparameters.values[\"dense_units\"]\n",
    "    time_to_update = 100 if exploration_tech == \"soft\" else trials.hyperparameters.values[\"time_to_update\"]\n",
    "    ulstm = False\n",
    "\n",
    "    hyperparam_combination.append((n_env, disc, end_ep, lr, entropy_fact, ep, bolt_fact, exploration_tech, train_steps, d, time_to_update, ulstm))"
   ]
  },
  {
   "cell_type": "code",
   "execution_count": 12,
   "metadata": {},
   "outputs": [
    {
     "data": {
      "text/plain": [
       "(3,\n",
       " [(30,\n",
       "   0.99,\n",
       "   1000,\n",
       "   0.0017021824414113465,\n",
       "   0.025180111322948846,\n",
       "   1,\n",
       "   1,\n",
       "   'epsilon',\n",
       "   5000000,\n",
       "   404,\n",
       "   400,\n",
       "   False),\n",
       "  (30,\n",
       "   0.99,\n",
       "   1000,\n",
       "   0.00039763984678024817,\n",
       "   0.027691164090841634,\n",
       "   1,\n",
       "   1,\n",
       "   'epsilon',\n",
       "   5000000,\n",
       "   195,\n",
       "   300,\n",
       "   False),\n",
       "  (30,\n",
       "   0.99,\n",
       "   1000,\n",
       "   0.00016902697216703033,\n",
       "   0.04190543594140047,\n",
       "   1,\n",
       "   1,\n",
       "   'epsilon',\n",
       "   5000000,\n",
       "   111,\n",
       "   400,\n",
       "   False)])"
      ]
     },
     "execution_count": 12,
     "metadata": {},
     "output_type": "execute_result"
    }
   ],
   "source": [
    "len(hyperparam_combination), hyperparam_combination"
   ]
  },
  {
   "cell_type": "code",
   "execution_count": 13,
   "metadata": {},
   "outputs": [],
   "source": [
    "# run_hyperparam(TUNING_TYPE= \"MANUAL\", TUNING_TYPE = TUNING_TYPE, hyperparam_combination = hyperparam_combination,  total_files = 4)"
   ]
  },
  {
   "cell_type": "code",
   "execution_count": 14,
   "metadata": {},
   "outputs": [
    {
     "name": "stdout",
     "output_type": "stream",
     "text": [
      "INFO:tensorflow:Reloading Tuner from Hyperparam_kt_A3C/keras_tunning_soft/tuner0.json\n",
      "Trial id :11 | Score :-80.96 --> {'discount': 0.99, 'entropy_factor': 0.017541715374253038, 'learning_rate': 0.0017291290664505736, 'dense_units': 246}\n",
      "Trial number :  39\n",
      "Moviepy - Building video ./A3C_soft_video.mp4.\n",
      "Moviepy - Writing video ./A3C_soft_video.mp4\n",
      "\n"
     ]
    },
    {
     "name": "stderr",
     "output_type": "stream",
     "text": [
      "                                                             "
     ]
    },
    {
     "name": "stdout",
     "output_type": "stream",
     "text": [
      "Moviepy - Done !\n",
      "Moviepy - video ready ./A3C_soft_video.mp4\n"
     ]
    },
    {
     "name": "stderr",
     "output_type": "stream",
     "text": [
      "\r"
     ]
    },
    {
     "name": "stdout",
     "output_type": "stream",
     "text": [
      "Final mean reward ' soft ': -81.75\n",
      "INFO:tensorflow:Reloading Tuner from Hyperparam_kt_A3C/keras_tunning_epsilon/tuner0.json\n",
      "Trial id :35 | Score :-78.25 --> {'discount': 0.99, 'entropy_factor': 0.025180111322948846, 'learning_rate': 0.0017021824414113465, 'dense_units': 404, 'time_to_update': 400}\n",
      "Trial number :  40\n",
      "WARNING:tensorflow:Detecting that an object or model or tf.train.Checkpoint is being deleted with unrestored values. See the following logs for the specific values in question. To silence these warnings, use `status.expect_partial()`. See https://www.tensorflow.org/api_docs/python/tf/train/Checkpoint#restorefor details about the status object returned by the restore function.\n",
      "WARNING:tensorflow:Value in checkpoint could not be found in the restored object: (root).optimizer.iter\n",
      "WARNING:tensorflow:Value in checkpoint could not be found in the restored object: (root).optimizer.beta_1\n",
      "WARNING:tensorflow:Value in checkpoint could not be found in the restored object: (root).optimizer.beta_2\n",
      "WARNING:tensorflow:Value in checkpoint could not be found in the restored object: (root).optimizer.decay\n",
      "WARNING:tensorflow:Value in checkpoint could not be found in the restored object: (root).optimizer.learning_rate\n",
      "Moviepy - Building video ./A3C_epsilon_video.mp4.\n",
      "Moviepy - Writing video ./A3C_epsilon_video.mp4\n",
      "\n"
     ]
    },
    {
     "name": "stderr",
     "output_type": "stream",
     "text": [
      "                                                             "
     ]
    },
    {
     "name": "stdout",
     "output_type": "stream",
     "text": [
      "Moviepy - Done !\n",
      "Moviepy - video ready ./A3C_epsilon_video.mp4\n"
     ]
    },
    {
     "name": "stderr",
     "output_type": "stream",
     "text": [
      "\r"
     ]
    },
    {
     "name": "stdout",
     "output_type": "stream",
     "text": [
      "Final mean reward ' epsilon ': -84.2\n",
      "INFO:tensorflow:Reloading Tuner from Hyperparam_kt_A3C/keras_tunning_boltzman/tuner0.json\n",
      "Trial id :08 | Score :-81.99 --> {'discount': 0.99, 'entropy_factor': 0.037451753872877504, 'learning_rate': 0.0026939658753463826, 'dense_units': 292, 'time_to_update': 600}\n",
      "Trial number :  30\n",
      "WARNING:tensorflow:Detecting that an object or model or tf.train.Checkpoint is being deleted with unrestored values. See the following logs for the specific values in question. To silence these warnings, use `status.expect_partial()`. See https://www.tensorflow.org/api_docs/python/tf/train/Checkpoint#restorefor details about the status object returned by the restore function.\n",
      "WARNING:tensorflow:Value in checkpoint could not be found in the restored object: (root).optimizer.iter\n",
      "WARNING:tensorflow:Value in checkpoint could not be found in the restored object: (root).optimizer.beta_1\n",
      "WARNING:tensorflow:Value in checkpoint could not be found in the restored object: (root).optimizer.beta_2\n",
      "WARNING:tensorflow:Value in checkpoint could not be found in the restored object: (root).optimizer.decay\n",
      "WARNING:tensorflow:Value in checkpoint could not be found in the restored object: (root).optimizer.learning_rate\n",
      "Moviepy - Building video ./A3C_boltzman_video.mp4.\n",
      "Moviepy - Writing video ./A3C_boltzman_video.mp4\n",
      "\n"
     ]
    },
    {
     "name": "stderr",
     "output_type": "stream",
     "text": [
      "                                                             "
     ]
    },
    {
     "name": "stdout",
     "output_type": "stream",
     "text": [
      "Moviepy - Done !\n",
      "Moviepy - video ready ./A3C_boltzman_video.mp4\n"
     ]
    },
    {
     "name": "stderr",
     "output_type": "stream",
     "text": [
      "\r"
     ]
    },
    {
     "name": "stdout",
     "output_type": "stream",
     "text": [
      "Final mean reward ' boltzman ': -77.18\n"
     ]
    }
   ],
   "source": [
    "\n",
    "val_env = gym.make(ENV, render_mode = \"rgb_array\")\n",
    "dir = r\"Hyperparam_kt_A3C\"\n",
    "\n",
    "for exploration_tech in [\"soft\" ,\"epsilon\", \"boltzman\"]:\n",
    "\n",
    "    project_name = \"keras_tunning_\"+exploration_tech\n",
    "\n",
    "    tuner = kt.BayesianOptimization(\n",
    "            MyHyperModel( hyper_dir = dir+\"/\"+project_name,  writer = \"logs_hyper/A3C_\"+exploration_tech+\"/\", exploration_tech =exploration_tech, \n",
    "                          end_of_episode = EPISODES, n_enviroment = 5, \n",
    "                  evaluation_epoch = 2000, training_steps = 600000,\n",
    "                  sucess_criteria_epochs = SUCESS_CRITERIA_EPOCH, sucess_criteria_value= SUCESS_CRITERIA_VALUE,\n",
    "                  discount_min = 0.90, discount_max = 0.99,\n",
    "                  entropy_min = 0.0001, entropy_max = 0.05,\n",
    "                  lr_min = 0.00001, lr_max = 0.005,\n",
    "                  dense_min = 32, dense_max = 500,\n",
    "                  lstm_min = 32, lstm_max = 128,\n",
    "                  time_to_update_min = 100, time_to_update_max=600,\n",
    "                  environment_name=ENV),\n",
    "            objective= kt.Objective('total_train_reward', direction=\"max\"), \n",
    "            max_trials = 40,\n",
    "            # distribution_strategy= strategy,\n",
    "            directory=dir,\n",
    "            project_name=project_name\n",
    "        )\n",
    "    for trials in tuner.oracle.get_best_trials(num_trials=1):\n",
    "        print(f\"Trial id :{trials.trial_id} | Score :{trials.score} -->\",trials.hyperparameters.values)\n",
    "        \n",
    "\n",
    "    env_model = tuner.get_best_models()[0]\n",
    "    final_rewards = final_evaluation(env_model,val_env,n_tries=200, exploration=exploration_tech,  video_name = \"./A3C_\"+exploration_tech+\"_video.mp4\")\n",
    "    print(\"Final mean reward '\",exploration_tech,\"':\", np.mean(final_rewards))\n",
    "\n",
    "    "
   ]
  }
 ],
 "metadata": {
  "accelerator": "GPU",
  "colab": {
   "collapsed_sections": [],
   "machine_shape": "hm",
   "name": "MountainCar_A3C_TF1.ipynb",
   "provenance": [
    {
     "file_id": "13V9JMDwUOkrM9DucPAwwgBQfllmy9kjl",
     "timestamp": 1578567519575
    },
    {
     "file_id": "1rnkjQiF2XrsLm9SMvOuTxe8vX_7hZozI",
     "timestamp": 1578558966437
    }
   ]
  },
  "kernelspec": {
   "display_name": "ai_dev",
   "language": "python",
   "name": "python3"
  },
  "language_info": {
   "codemirror_mode": {
    "name": "ipython",
    "version": 3
   },
   "file_extension": ".py",
   "mimetype": "text/x-python",
   "name": "python",
   "nbconvert_exporter": "python",
   "pygments_lexer": "ipython3",
   "version": "3.8.0"
  },
  "vscode": {
   "interpreter": {
    "hash": "e97097829de60fff0360ae9237ac6de2911bdcd7f22e62fb944aef663864db87"
   }
  }
 },
 "nbformat": 4,
 "nbformat_minor": 4
}
